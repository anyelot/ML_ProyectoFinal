{
 "cells": [
  {
   "cell_type": "markdown",
   "metadata": {},
   "source": [
    "# **Análisis Exploratorio (EDA) del OWID Energy Consumption** "
   ]
  },
  {
   "cell_type": "markdown",
   "metadata": {},
   "source": [
    "## **Librerías y módulos necesarios**"
   ]
  },
  {
   "cell_type": "code",
   "execution_count": 624,
   "metadata": {},
   "outputs": [],
   "source": [
    "import pandas as pd \n",
    "import matplotlib.pyplot as plt\n",
    "import seaborn as sns\n",
    "import numpy as np\n",
    "import statsmodels.tsa.api as smtsa\n",
    "from statsmodels.tsa.stattools import adfuller\n",
    "from statsmodels.graphics.tsaplots import plot_acf\n",
    "from statsmodels.graphics.tsaplots import plot_pacf\n",
    "from statsmodels.tsa.seasonal import seasonal_decompose\n",
    "from multiprocessing import Pool, cpu_count\n",
    "import matplotlib.pyplot as plt\n",
    "from matplotlib.ticker import AutoMinorLocator\n",
    "import plotly.express as px\n",
    "import pycountry\n",
    "import plotly.graph_objects as go\n"
   ]
  },
  {
   "cell_type": "markdown",
   "metadata": {},
   "source": [
    "## **Datos importantes**\n",
    "\n",
    "Para realizar un Análisis Exploratorio de Datos (EDA) efectivo, debemos seleccionar las variables más relevantes del conjunto de datos para responder a las preguntas clave. Aquí tienes las variables más importantes que pueden ser útiles en un EDA sobre consumo energético, tomando en cuenta la estructura del conjunto de datos:\n",
    "\n",
    "1. **`country`**: País o región. Es importante para segmentar el análisis por geografía.\n",
    "2. **`year`**: Año. Fundamental para el análisis temporal de tendencias.\n",
    "3. **`population`**: Población. Ayuda a entender el consumo per cápita.\n",
    "\n",
    "Estas variables permiten un análisis profundo de las tendencias de consumo energético, su relación con factores económicos y demográficos, y su impacto en el medio ambiente."
   ]
  },
  {
   "cell_type": "markdown",
   "metadata": {},
   "source": [
    "### **Base de Datos**"
   ]
  },
  {
   "cell_type": "code",
   "execution_count": 625,
   "metadata": {},
   "outputs": [],
   "source": [
    "df_full = pd.read_csv(\"C:/Users/ADM/Documents/MachineLearningUN/ML_ProyectoFinal/base/owid-energy-data.csv\", sep=\",\")"
   ]
  },
  {
   "cell_type": "markdown",
   "metadata": {},
   "source": [
    "### **Caracteristicas de la Base de Datos**"
   ]
  },
  {
   "cell_type": "code",
   "execution_count": 626,
   "metadata": {},
   "outputs": [
    {
     "name": "stdout",
     "output_type": "stream",
     "text": [
      "<class 'pandas.core.frame.DataFrame'>\n",
      "RangeIndex: 21812 entries, 0 to 21811\n",
      "Columns: 129 entries, country to wind_share_energy\n",
      "dtypes: float64(126), int64(1), object(2)\n",
      "memory usage: 21.5+ MB\n"
     ]
    }
   ],
   "source": [
    "df_full.info()\n"
   ]
  },
  {
   "cell_type": "markdown",
   "metadata": {},
   "source": [
    "El DataFrame resultante tiene 21,812 entradas y 129 columnas. Cada entrada probablemente representa un año para un país específico, mientras que las columnas parecen incluir diferentes variables relacionadas con el consumo y producción de energía.\n",
    "Las variables contienen 126 columnas de tipo float64 (posiblemente datos numéricos continuos, como el consumo de diferentes tipos de energía), 1 columna de tipo int64 (probablemente algún tipo de identificación o año), y 2 columnas de tipo object (posiblemente nombres de países o categorías)."
   ]
  },
  {
   "cell_type": "code",
   "execution_count": 627,
   "metadata": {},
   "outputs": [
    {
     "data": {
      "text/html": [
       "<div>\n",
       "<style scoped>\n",
       "    .dataframe tbody tr th:only-of-type {\n",
       "        vertical-align: middle;\n",
       "    }\n",
       "\n",
       "    .dataframe tbody tr th {\n",
       "        vertical-align: top;\n",
       "    }\n",
       "\n",
       "    .dataframe thead th {\n",
       "        text-align: right;\n",
       "    }\n",
       "</style>\n",
       "<table border=\"1\" class=\"dataframe\">\n",
       "  <thead>\n",
       "    <tr style=\"text-align: right;\">\n",
       "      <th></th>\n",
       "      <th>country</th>\n",
       "      <th>iso_code</th>\n",
       "    </tr>\n",
       "  </thead>\n",
       "  <tbody>\n",
       "    <tr>\n",
       "      <th>count</th>\n",
       "      <td>21812</td>\n",
       "      <td>16812</td>\n",
       "    </tr>\n",
       "    <tr>\n",
       "      <th>unique</th>\n",
       "      <td>294</td>\n",
       "      <td>220</td>\n",
       "    </tr>\n",
       "    <tr>\n",
       "      <th>top</th>\n",
       "      <td>Zimbabwe</td>\n",
       "      <td>ZWE</td>\n",
       "    </tr>\n",
       "    <tr>\n",
       "      <th>freq</th>\n",
       "      <td>124</td>\n",
       "      <td>124</td>\n",
       "    </tr>\n",
       "  </tbody>\n",
       "</table>\n",
       "</div>"
      ],
      "text/plain": [
       "         country iso_code\n",
       "count      21812    16812\n",
       "unique       294      220\n",
       "top     Zimbabwe      ZWE\n",
       "freq         124      124"
      ]
     },
     "execution_count": 627,
     "metadata": {},
     "output_type": "execute_result"
    }
   ],
   "source": [
    "df_full.describe(include = object)\n"
   ]
  },
  {
   "cell_type": "markdown",
   "metadata": {},
   "source": [
    "En este paso del análisis de datos, se tomó la decisión de eliminar las filas que contienen valores faltantes (`NaN`) en las columnas clave: **`country`** (país), **`year`** (año) y **`population`** (población). Estas columnas son esenciales para el análisis, ya que cada observación debe estar asociada a un país, un año específico y su respectiva población. Sin estos valores, el análisis de tendencias temporales, de consumo por país, o de cálculos de consumo per cápita sería inconsistente o incorrecto.\n",
    "\n",
    "La columna **`country`** es indispensable porque los datos se agrupan por países, y eliminar filas sin este dato asegura que cada registro esté correctamente identificado. Asimismo, la columna **`year`** es fundamental para garantizar que cada entrada esté asociada a un año específico, necesario para cualquier análisis de series temporales. Finalmente, la columna **`population`** es clave para cálculos per cápita o análisis de densidad poblacional en el consumo energético. Por estas razones, eliminar filas con valores faltantes en estas columnas ayuda a mantener la integridad del análisis."
   ]
  },
  {
   "cell_type": "code",
   "execution_count": 628,
   "metadata": {},
   "outputs": [
    {
     "data": {
      "text/html": [
       "<div>\n",
       "<style scoped>\n",
       "    .dataframe tbody tr th:only-of-type {\n",
       "        vertical-align: middle;\n",
       "    }\n",
       "\n",
       "    .dataframe tbody tr th {\n",
       "        vertical-align: top;\n",
       "    }\n",
       "\n",
       "    .dataframe thead th {\n",
       "        text-align: right;\n",
       "    }\n",
       "</style>\n",
       "<table border=\"1\" class=\"dataframe\">\n",
       "  <thead>\n",
       "    <tr style=\"text-align: right;\">\n",
       "      <th></th>\n",
       "      <th>country</th>\n",
       "      <th>year</th>\n",
       "      <th>iso_code</th>\n",
       "      <th>population</th>\n",
       "      <th>gdp</th>\n",
       "      <th>biofuel_cons_change_pct</th>\n",
       "      <th>biofuel_cons_change_twh</th>\n",
       "      <th>biofuel_cons_per_capita</th>\n",
       "      <th>biofuel_consumption</th>\n",
       "      <th>biofuel_elec_per_capita</th>\n",
       "      <th>...</th>\n",
       "      <th>solar_share_elec</th>\n",
       "      <th>solar_share_energy</th>\n",
       "      <th>wind_cons_change_pct</th>\n",
       "      <th>wind_cons_change_twh</th>\n",
       "      <th>wind_consumption</th>\n",
       "      <th>wind_elec_per_capita</th>\n",
       "      <th>wind_electricity</th>\n",
       "      <th>wind_energy_per_capita</th>\n",
       "      <th>wind_share_elec</th>\n",
       "      <th>wind_share_energy</th>\n",
       "    </tr>\n",
       "  </thead>\n",
       "  <tbody>\n",
       "    <tr>\n",
       "      <th>24</th>\n",
       "      <td>Afghanistan</td>\n",
       "      <td>1900</td>\n",
       "      <td>AFG</td>\n",
       "      <td>4707744.0</td>\n",
       "      <td>NaN</td>\n",
       "      <td>NaN</td>\n",
       "      <td>NaN</td>\n",
       "      <td>NaN</td>\n",
       "      <td>NaN</td>\n",
       "      <td>NaN</td>\n",
       "      <td>...</td>\n",
       "      <td>NaN</td>\n",
       "      <td>NaN</td>\n",
       "      <td>NaN</td>\n",
       "      <td>NaN</td>\n",
       "      <td>NaN</td>\n",
       "      <td>NaN</td>\n",
       "      <td>NaN</td>\n",
       "      <td>NaN</td>\n",
       "      <td>NaN</td>\n",
       "      <td>NaN</td>\n",
       "    </tr>\n",
       "    <tr>\n",
       "      <th>25</th>\n",
       "      <td>Afghanistan</td>\n",
       "      <td>1901</td>\n",
       "      <td>AFG</td>\n",
       "      <td>4751177.0</td>\n",
       "      <td>NaN</td>\n",
       "      <td>NaN</td>\n",
       "      <td>NaN</td>\n",
       "      <td>NaN</td>\n",
       "      <td>NaN</td>\n",
       "      <td>NaN</td>\n",
       "      <td>...</td>\n",
       "      <td>NaN</td>\n",
       "      <td>NaN</td>\n",
       "      <td>NaN</td>\n",
       "      <td>NaN</td>\n",
       "      <td>NaN</td>\n",
       "      <td>NaN</td>\n",
       "      <td>NaN</td>\n",
       "      <td>NaN</td>\n",
       "      <td>NaN</td>\n",
       "      <td>NaN</td>\n",
       "    </tr>\n",
       "    <tr>\n",
       "      <th>26</th>\n",
       "      <td>Afghanistan</td>\n",
       "      <td>1902</td>\n",
       "      <td>AFG</td>\n",
       "      <td>4802500.0</td>\n",
       "      <td>NaN</td>\n",
       "      <td>NaN</td>\n",
       "      <td>NaN</td>\n",
       "      <td>NaN</td>\n",
       "      <td>NaN</td>\n",
       "      <td>NaN</td>\n",
       "      <td>...</td>\n",
       "      <td>NaN</td>\n",
       "      <td>NaN</td>\n",
       "      <td>NaN</td>\n",
       "      <td>NaN</td>\n",
       "      <td>NaN</td>\n",
       "      <td>NaN</td>\n",
       "      <td>NaN</td>\n",
       "      <td>NaN</td>\n",
       "      <td>NaN</td>\n",
       "      <td>NaN</td>\n",
       "    </tr>\n",
       "    <tr>\n",
       "      <th>27</th>\n",
       "      <td>Afghanistan</td>\n",
       "      <td>1903</td>\n",
       "      <td>AFG</td>\n",
       "      <td>4861833.0</td>\n",
       "      <td>NaN</td>\n",
       "      <td>NaN</td>\n",
       "      <td>NaN</td>\n",
       "      <td>NaN</td>\n",
       "      <td>NaN</td>\n",
       "      <td>NaN</td>\n",
       "      <td>...</td>\n",
       "      <td>NaN</td>\n",
       "      <td>NaN</td>\n",
       "      <td>NaN</td>\n",
       "      <td>NaN</td>\n",
       "      <td>NaN</td>\n",
       "      <td>NaN</td>\n",
       "      <td>NaN</td>\n",
       "      <td>NaN</td>\n",
       "      <td>NaN</td>\n",
       "      <td>NaN</td>\n",
       "    </tr>\n",
       "    <tr>\n",
       "      <th>28</th>\n",
       "      <td>Afghanistan</td>\n",
       "      <td>1904</td>\n",
       "      <td>AFG</td>\n",
       "      <td>4921891.0</td>\n",
       "      <td>NaN</td>\n",
       "      <td>NaN</td>\n",
       "      <td>NaN</td>\n",
       "      <td>NaN</td>\n",
       "      <td>NaN</td>\n",
       "      <td>NaN</td>\n",
       "      <td>...</td>\n",
       "      <td>NaN</td>\n",
       "      <td>NaN</td>\n",
       "      <td>NaN</td>\n",
       "      <td>NaN</td>\n",
       "      <td>NaN</td>\n",
       "      <td>NaN</td>\n",
       "      <td>NaN</td>\n",
       "      <td>NaN</td>\n",
       "      <td>NaN</td>\n",
       "      <td>NaN</td>\n",
       "    </tr>\n",
       "    <tr>\n",
       "      <th>29</th>\n",
       "      <td>Afghanistan</td>\n",
       "      <td>1905</td>\n",
       "      <td>AFG</td>\n",
       "      <td>4982681.0</td>\n",
       "      <td>NaN</td>\n",
       "      <td>NaN</td>\n",
       "      <td>NaN</td>\n",
       "      <td>NaN</td>\n",
       "      <td>NaN</td>\n",
       "      <td>NaN</td>\n",
       "      <td>...</td>\n",
       "      <td>NaN</td>\n",
       "      <td>NaN</td>\n",
       "      <td>NaN</td>\n",
       "      <td>NaN</td>\n",
       "      <td>NaN</td>\n",
       "      <td>NaN</td>\n",
       "      <td>NaN</td>\n",
       "      <td>NaN</td>\n",
       "      <td>NaN</td>\n",
       "      <td>NaN</td>\n",
       "    </tr>\n",
       "    <tr>\n",
       "      <th>30</th>\n",
       "      <td>Afghanistan</td>\n",
       "      <td>1906</td>\n",
       "      <td>AFG</td>\n",
       "      <td>5044212.0</td>\n",
       "      <td>NaN</td>\n",
       "      <td>NaN</td>\n",
       "      <td>NaN</td>\n",
       "      <td>NaN</td>\n",
       "      <td>NaN</td>\n",
       "      <td>NaN</td>\n",
       "      <td>...</td>\n",
       "      <td>NaN</td>\n",
       "      <td>NaN</td>\n",
       "      <td>NaN</td>\n",
       "      <td>NaN</td>\n",
       "      <td>NaN</td>\n",
       "      <td>NaN</td>\n",
       "      <td>NaN</td>\n",
       "      <td>NaN</td>\n",
       "      <td>NaN</td>\n",
       "      <td>NaN</td>\n",
       "    </tr>\n",
       "    <tr>\n",
       "      <th>31</th>\n",
       "      <td>Afghanistan</td>\n",
       "      <td>1907</td>\n",
       "      <td>AFG</td>\n",
       "      <td>5106495.0</td>\n",
       "      <td>NaN</td>\n",
       "      <td>NaN</td>\n",
       "      <td>NaN</td>\n",
       "      <td>NaN</td>\n",
       "      <td>NaN</td>\n",
       "      <td>NaN</td>\n",
       "      <td>...</td>\n",
       "      <td>NaN</td>\n",
       "      <td>NaN</td>\n",
       "      <td>NaN</td>\n",
       "      <td>NaN</td>\n",
       "      <td>NaN</td>\n",
       "      <td>NaN</td>\n",
       "      <td>NaN</td>\n",
       "      <td>NaN</td>\n",
       "      <td>NaN</td>\n",
       "      <td>NaN</td>\n",
       "    </tr>\n",
       "    <tr>\n",
       "      <th>32</th>\n",
       "      <td>Afghanistan</td>\n",
       "      <td>1908</td>\n",
       "      <td>AFG</td>\n",
       "      <td>5169536.0</td>\n",
       "      <td>NaN</td>\n",
       "      <td>NaN</td>\n",
       "      <td>NaN</td>\n",
       "      <td>NaN</td>\n",
       "      <td>NaN</td>\n",
       "      <td>NaN</td>\n",
       "      <td>...</td>\n",
       "      <td>NaN</td>\n",
       "      <td>NaN</td>\n",
       "      <td>NaN</td>\n",
       "      <td>NaN</td>\n",
       "      <td>NaN</td>\n",
       "      <td>NaN</td>\n",
       "      <td>NaN</td>\n",
       "      <td>NaN</td>\n",
       "      <td>NaN</td>\n",
       "      <td>NaN</td>\n",
       "    </tr>\n",
       "  </tbody>\n",
       "</table>\n",
       "<p>9 rows × 129 columns</p>\n",
       "</div>"
      ],
      "text/plain": [
       "        country  year iso_code  population  gdp  biofuel_cons_change_pct  \\\n",
       "24  Afghanistan  1900      AFG   4707744.0  NaN                      NaN   \n",
       "25  Afghanistan  1901      AFG   4751177.0  NaN                      NaN   \n",
       "26  Afghanistan  1902      AFG   4802500.0  NaN                      NaN   \n",
       "27  Afghanistan  1903      AFG   4861833.0  NaN                      NaN   \n",
       "28  Afghanistan  1904      AFG   4921891.0  NaN                      NaN   \n",
       "29  Afghanistan  1905      AFG   4982681.0  NaN                      NaN   \n",
       "30  Afghanistan  1906      AFG   5044212.0  NaN                      NaN   \n",
       "31  Afghanistan  1907      AFG   5106495.0  NaN                      NaN   \n",
       "32  Afghanistan  1908      AFG   5169536.0  NaN                      NaN   \n",
       "\n",
       "    biofuel_cons_change_twh  biofuel_cons_per_capita  biofuel_consumption  \\\n",
       "24                      NaN                      NaN                  NaN   \n",
       "25                      NaN                      NaN                  NaN   \n",
       "26                      NaN                      NaN                  NaN   \n",
       "27                      NaN                      NaN                  NaN   \n",
       "28                      NaN                      NaN                  NaN   \n",
       "29                      NaN                      NaN                  NaN   \n",
       "30                      NaN                      NaN                  NaN   \n",
       "31                      NaN                      NaN                  NaN   \n",
       "32                      NaN                      NaN                  NaN   \n",
       "\n",
       "    biofuel_elec_per_capita  ...  solar_share_elec  solar_share_energy  \\\n",
       "24                      NaN  ...               NaN                 NaN   \n",
       "25                      NaN  ...               NaN                 NaN   \n",
       "26                      NaN  ...               NaN                 NaN   \n",
       "27                      NaN  ...               NaN                 NaN   \n",
       "28                      NaN  ...               NaN                 NaN   \n",
       "29                      NaN  ...               NaN                 NaN   \n",
       "30                      NaN  ...               NaN                 NaN   \n",
       "31                      NaN  ...               NaN                 NaN   \n",
       "32                      NaN  ...               NaN                 NaN   \n",
       "\n",
       "    wind_cons_change_pct  wind_cons_change_twh  wind_consumption  \\\n",
       "24                   NaN                   NaN               NaN   \n",
       "25                   NaN                   NaN               NaN   \n",
       "26                   NaN                   NaN               NaN   \n",
       "27                   NaN                   NaN               NaN   \n",
       "28                   NaN                   NaN               NaN   \n",
       "29                   NaN                   NaN               NaN   \n",
       "30                   NaN                   NaN               NaN   \n",
       "31                   NaN                   NaN               NaN   \n",
       "32                   NaN                   NaN               NaN   \n",
       "\n",
       "    wind_elec_per_capita  wind_electricity  wind_energy_per_capita  \\\n",
       "24                   NaN               NaN                     NaN   \n",
       "25                   NaN               NaN                     NaN   \n",
       "26                   NaN               NaN                     NaN   \n",
       "27                   NaN               NaN                     NaN   \n",
       "28                   NaN               NaN                     NaN   \n",
       "29                   NaN               NaN                     NaN   \n",
       "30                   NaN               NaN                     NaN   \n",
       "31                   NaN               NaN                     NaN   \n",
       "32                   NaN               NaN                     NaN   \n",
       "\n",
       "    wind_share_elec  wind_share_energy  \n",
       "24              NaN                NaN  \n",
       "25              NaN                NaN  \n",
       "26              NaN                NaN  \n",
       "27              NaN                NaN  \n",
       "28              NaN                NaN  \n",
       "29              NaN                NaN  \n",
       "30              NaN                NaN  \n",
       "31              NaN                NaN  \n",
       "32              NaN                NaN  \n",
       "\n",
       "[9 rows x 129 columns]"
      ]
     },
     "execution_count": 628,
     "metadata": {},
     "output_type": "execute_result"
    }
   ],
   "source": [
    "# Eliminamos filas que tengan NaN en las columnas 'country', 'year' o 'population'\n",
    "df = df_full.dropna(subset=['country', 'year', 'population'])\n",
    "\n",
    "# Mostramos las primeras filas del DataFrame resultante\n",
    "df.head(9)"
   ]
  },
  {
   "cell_type": "markdown",
   "metadata": {},
   "source": [
    "Una vez que se eliminaron las filas con valores `NaN` en estas tres columnas clave, se mostró el resultado utilizando `df.head()` para visualizar las primeras cinco filas del DataFrame resultante. Este paso es crucial para verificar que los datos se han procesado correctamente y que las filas que permanecen contienen la información necesaria."
   ]
  },
  {
   "cell_type": "code",
   "execution_count": 629,
   "metadata": {},
   "outputs": [
    {
     "data": {
      "text/plain": [
       "(18447, 129)"
      ]
     },
     "execution_count": 629,
     "metadata": {},
     "output_type": "execute_result"
    }
   ],
   "source": [
    "df.shape"
   ]
  },
  {
   "cell_type": "markdown",
   "metadata": {},
   "source": [
    "Aqui nos indica que el DataFrame ahora tiene 18,447 filas y 129 columnas. Esto refleja el tamaño del conjunto de datos después de eliminar las filas con valores faltantes en las columnas clave."
   ]
  },
  {
   "cell_type": "markdown",
   "metadata": {},
   "source": [
    "## **Agrupación de datos**\n",
    "\n",
    "### **Agrupacion de Energias Renovables y no Renovables**\n",
    "\n",
    "En este paso, se tomaron las columnas del DataFrame relacionadas con el consumo de energía y se agruparon en dos listas: **energías renovables** y **energías no renovables**. Este proceso facilita la manipulación y análisis por separado de ambos tipos de fuentes de energía, lo que es crucial cuando se desean analizar patrones de consumo específicos para cada tipo.\n",
    "\n",
    "- **`ren_energy_columns`**: Esta lista agrupa todas las columnas relacionadas con el consumo de **energías renovables**. Las fuentes de energía incluidas aquí, como la biomasa, la energía hidroeléctrica, solar, eólica y nuclear, son aquellas consideradas como fuentes sostenibles a largo plazo. La decisión de agrupar estas columnas permite enfocarse en el análisis de tendencias y comportamientos relacionados con la transición energética hacia fuentes más limpias.\n",
    "\n",
    "- **`nonren_energy_columns`**: Esta lista contiene las columnas relacionadas con el consumo de **energías no renovables**, como los combustibles fósiles (carbón, gas natural y petróleo). Estas fuentes son fundamentales para entender las emisiones de gases de efecto invernadero y la dependencia de los combustibles tradicionales, permitiendo así el análisis comparativo con las renovables."
   ]
  },
  {
   "cell_type": "code",
   "execution_count": 630,
   "metadata": {},
   "outputs": [],
   "source": [
    "ren_energy_columns = [\n",
    "    'biofuel_consumption', \n",
    "    'hydro_consumption', \n",
    "    'solar_consumption', \n",
    "    'wind_consumption', \n",
    "    'nuclear_consumption', \n",
    "    'other_renewable_consumption',\n",
    "]\n",
    "\n",
    "nonren_energy_columns = [\n",
    "    'fossil_fuel_consumption',\n",
    "    'coal_consumption',\n",
    "    'gas_consumption',\n",
    "    'oil_consumption'\n",
    "]"
   ]
  },
  {
   "cell_type": "markdown",
   "metadata": {},
   "source": [
    "Agrupar estas columnas en dos categorías permite realizar un análisis más estructurado y facilita la comparación entre el consumo de fuentes renovables y no renovables. Esto es particularmente útil cuando se estudian tendencias de sostenibilidad energética, el impacto de las políticas medioambientales y el progreso hacia una matriz energética más limpia.\n",
    "\n",
    "Esta separación también ayuda a visualizar y calcular indicadores clave, como la proporción de consumo de energía renovable frente a la no renovable a lo largo del tiempo, lo que es vital para estudios sobre el cambio climático y la eficiencia energética de los países."
   ]
  },
  {
   "cell_type": "markdown",
   "metadata": {},
   "source": [
    "### **Filtro del Conjunto de Datos**\n",
    "\n",
    "El objetivo de este bloque de código es **filtrar el conjunto de datos** para enfocarse únicamente en los **países individuales** y excluir las **regiones, continentes y agrupaciones** de países. Esto es importante porque el análisis de consumo energético renovable se enfoca en países, y el incluir datos agregados a nivel de regiones como \"World\" o \"Europe\" podría distorsionar los resultados al mezclar datos agregados con datos por país.\n",
    "\n",
    "La decisión de excluir regiones más amplias asegura que el análisis se centre en las comparaciones entre países específicos, lo que es más útil para identificar tendencias o realizar análisis de impacto por nación.\n",
    "\n",
    "\n",
    "- Primero, se filtran los datos para el período entre **1990 y 2022**, que es el intervalo de tiempo de interés para el análisis. Esto elimina los datos de años fuera de ese rango, que probablemente no sean relevantes o no tengan datos suficientes.\n",
    "\n",
    "- Luego, se excluyen agrupaciones geográficas o económicas más amplias como \"World\", \"Europe\", \"Asia\", \"North America\", entre otras. Estas agrupaciones suelen sumar los datos de varios países, y al excluirlas se garantiza que el análisis se enfoque exclusivamente en naciones individuales. Las agrupaciones por nivel de ingresos (como \"High-income countries\") también se eliminan, ya que podrían interferir con el análisis de países específicos.\n",
    "\n",
    "- Se agrupan los datos por país y se suman los valores de todas las energías renovables seleccionadas en la variable `ren_energy_columns`. Esto permite calcular el consumo total de energías renovables para cada país.\n",
    "   \n",
    "- Luego, se suman estos valores para cada país y se almacena en una nueva columna llamada **`total_renewable`**, que refleja el consumo total de energías renovables por país."
   ]
  },
  {
   "cell_type": "code",
   "execution_count": 631,
   "metadata": {},
   "outputs": [
    {
     "name": "stderr",
     "output_type": "stream",
     "text": [
      "C:\\Users\\ADM\\AppData\\Local\\Temp\\ipykernel_4248\\3088417971.py:2: UserWarning:\n",
      "\n",
      "Boolean Series key will be reindexed to match DataFrame index.\n",
      "\n"
     ]
    }
   ],
   "source": [
    "df_filtered_range = df[(df['year'] >= 1990) & (df['year'] <= 2022)]\n",
    "df_filtered_range = df_filtered_range[(df['country'] != 'World') & \n",
    "                (df_filtered_range['country'] != 'Europe') & \n",
    "                (df_filtered_range['country'] != 'Asia') & \n",
    "                (df_filtered_range['country'] != 'North America') & \n",
    "                (df_filtered_range['country'] != 'High-income countries') & \n",
    "                (df_filtered_range['country'] != 'Lower-middle-income countries') & \n",
    "                (df_filtered_range['country'] != 'Upper-middle-income countries') & \n",
    "                (df_filtered_range['country'] != 'European Union (27)') & \n",
    "                (df_filtered_range['country'] != 'South America')]"
   ]
  },
  {
   "cell_type": "markdown",
   "metadata": {},
   "source": [
    "Este enfoque asegura que los **10 países más destacados** en el consumo de energías renovables se seleccionen sin distorsión, al evitar los datos agregados de regiones y continentes enteros. Además, permite realizar comparaciones claras y significativas entre los países individuales, lo que es crucial para evaluar el progreso hacia el uso de fuentes de energía más limpias a nivel nacional"
   ]
  },
  {
   "cell_type": "markdown",
   "metadata": {},
   "source": [
    "## **Detección de Valores Atípicos**"
   ]
  },
  {
   "cell_type": "markdown",
   "metadata": {},
   "source": [
    "En este código se decide crear un boxplot que muestra la distribución del consumo de energías renovables de los 10 países con mayor consumo de energías renovables en el periodo de 1990 a 2022. La selección de estos países permite un análisis detallado de cómo ha sido el comportamiento del consumo de energías limpias entre los países. Los 10 países seleccionados son los que más consumen energías renovables, lo que los convierte en un grupo clave para estudiar cómo ha evolucionado el uso de estas fuentes limpias.\n",
    "\n",
    "El boxplot también es útil para detectar outliers (valores atípicos) que pueden representar eventos singulares, como políticas energéticas, cambios tecnológicos, o condiciones económicas que impulsaron o afectaron el consumo de energías renovables en esos países. Además, al agrupar por año, permite visualizar cómo ha cambiado el comportamiento global de consumo en estos países en un período de más de 30 años."
   ]
  },
  {
   "cell_type": "code",
   "execution_count": 632,
   "metadata": {},
   "outputs": [],
   "source": [
    "# Sumar energías para cada categoría\n",
    "df_filtered_range['ren_energy'] = df_filtered_range[ren_energy_columns].sum(axis=1)\n",
    "df_filtered_range['nonren_energy'] = df_filtered_range[nonren_energy_columns].sum(axis=1)"
   ]
  },
  {
   "cell_type": "code",
   "execution_count": 633,
   "metadata": {},
   "outputs": [
    {
     "name": "stderr",
     "output_type": "stream",
     "text": [
      "C:\\Users\\ADM\\AppData\\Local\\Temp\\ipykernel_4248\\611516514.py:6: FutureWarning:\n",
      "\n",
      "\n",
      "\n",
      "Passing `palette` without assigning `hue` is deprecated and will be removed in v0.14.0. Assign the `x` variable to `hue` and set `legend=False` for the same effect.\n",
      "\n",
      "\n"
     ]
    },
    {
     "data": {
      "image/png": "[encoded data removed]",
      "text/plain": [
       "<Figure size 1400x800 with 1 Axes>"
      ]
     },
     "metadata": {},
     "output_type": "display_data"
    }
   ],
   "source": [
    "top10_countries = df_filtered_range.groupby('country')['ren_energy'].sum().nlargest(10).index\n",
    "df_top10 = df_filtered_range[df_filtered_range['country'].isin(top10_countries)]\n",
    "\n",
    "# Crear un boxplot por año mostrando la distribución de consumo de energías renovables por país\n",
    "plt.figure(figsize=(14, 8))\n",
    "sns.boxplot(data=df_top10, x='year', y='ren_energy', palette='YlOrBr')\n",
    "\n",
    "plt.title('Distribución del consumo de energías renovables por año (1990 - 2022)')\n",
    "plt.xlabel('Año')\n",
    "plt.ylabel('Consumo total de energías renovables (TWh)')\n",
    "\n",
    "# Mostrar el gráfico\n",
    "plt.tight_layout()\n",
    "plt.show()"
   ]
  },
  {
   "cell_type": "markdown",
   "metadata": {},
   "source": [
    "El gráfico muestra la distribución anual del consumo de energías renovables de los 10 países con mayor consumo entre 1990 y 2022. La mediana del consumo se mantiene estable en los primeros años, alrededor de 1,000 TWh, pero muestra un ligero aumento hacia años más recientes. Esto indica un crecimiento gradual en el uso de energías renovables.\n",
    "\n",
    "A partir de 2007, se observa un incremento en la dispersión del consumo de energía, lo que indica una mayor variabilidad entre países. Algunos países han avanzado significativamente más en su adopción de energías renovables que otros, lo que se refleja en el aumento del rango intercuartílico.\n",
    "\n",
    "Los outliers (valores atípicos) son especialmente visibles a partir de 2010. Estos puntos representan países que han tenido un consumo de energías renovables mucho mayor que el promedio, superando los 7,000-8,000 TWh en los últimos años. Esto podría deberse a políticas energéticas agresivas o avances tecnológicos en dichos países."
   ]
  },
  {
   "cell_type": "markdown",
   "metadata": {},
   "source": [
    "### **Método de Imputación por Interpolación Lineal**\n",
    "\n",
    "Implementa dos pasos clave para mejorar la calidad del conjunto de datos: eliminación de valores atípicos y imputación por interpolación lineal de los valores faltantes. La razón de esta decisión es asegurar que los datos sean más consistentes y que los valores atípicos no distorsionen los resultados de los análisis.\n",
    "\n",
    "El método del rango intercuartílico (IQR) se utiliza para identificar y eliminar los valores atípicos. Los cuartiles 1 y 3 (Q1 y Q3) se utilizan para calcular el IQR, que mide la dispersión entre los datos. Se define un rango (entre el límite inferior y superior) donde se encuentran los valores normales. Todo lo que quede fuera de este rango se considera atípico y se elimina.\n",
    "Se decidió eliminar los valores atípicos para asegurar que el análisis no esté influenciado por consumos extremadamente altos o bajos que puedan ser excepcionales o errores en los datos.\n",
    "Interpolación por interpolación lineal para imputar valores faltantes:\n",
    "\n",
    "Después de eliminar los outliers, se aplica la interpolación lineal para imputar los valores faltantes en las columnas de energías renovables. La interpolación lineal es una técnica que toma los valores antes y después de una posición vacía y calcula un valor intermedio para llenar ese espacio. Esto es útil porque permite mantener la continuidad temporal y evitar que los valores faltantes interrumpan los patrones o tendencias en el análisis."
   ]
  },
  {
   "cell_type": "code",
   "execution_count": 634,
   "metadata": {},
   "outputs": [
    {
     "name": "stderr",
     "output_type": "stream",
     "text": [
      "C:\\Users\\ADM\\AppData\\Local\\Temp\\ipykernel_4248\\25317863.py:15: SettingWithCopyWarning:\n",
      "\n",
      "\n",
      "A value is trying to be set on a copy of a slice from a DataFrame.\n",
      "Try using .loc[row_indexer,col_indexer] = value instead\n",
      "\n",
      "See the caveats in the documentation: https://pandas.pydata.org/pandas-docs/stable/user_guide/indexing.html#returning-a-view-versus-a-copy\n",
      "\n",
      "C:\\Users\\ADM\\AppData\\Local\\Temp\\ipykernel_4248\\25317863.py:18: FutureWarning:\n",
      "\n",
      "\n",
      "\n",
      "Passing `palette` without assigning `hue` is deprecated and will be removed in v0.14.0. Assign the `x` variable to `hue` and set `legend=False` for the same effect.\n",
      "\n",
      "\n"
     ]
    },
    {
     "data": {
      "image/png": "[encoded data removed]",
      "text/plain": [
       "<Figure size 1400x800 with 1 Axes>"
      ]
     },
     "metadata": {},
     "output_type": "display_data"
    }
   ],
   "source": [
    "# 1. Eliminar valores atípicos utilizando el método del IQR\n",
    "Q1 = df_top10['ren_energy'].quantile(0.25)\n",
    "Q3 = df_top10['ren_energy'].quantile(0.75)\n",
    "IQR = Q3 - Q1\n",
    "\n",
    "# Definir el rango para detectar outliers\n",
    "lower_bound = Q1 - 0.25 * IQR\n",
    "upper_bound = Q3 + 0.25 * IQR\n",
    "\n",
    "# Filtrar datos dentro del rango intercuartílico (eliminar outliers)\n",
    "df_no_outliers = df_filtered_range[(df_filtered_range['ren_energy'] >= lower_bound) & \n",
    "                                   (df_filtered_range['ren_energy'] <= upper_bound)]\n",
    "\n",
    "# 2. Imputación por interpolación lineal para valores faltantes\n",
    "df_no_outliers[ren_energy_columns] = df_no_outliers[ren_energy_columns].interpolate(method='linear')\n",
    "\n",
    "plt.figure(figsize=(14, 8))\n",
    "sns.boxplot(data=df_no_outliers, x='year', y='ren_energy', palette='YlOrBr')\n",
    "\n",
    "plt.title('Consumo de energías renovables por año después de la imputación (1990 - 2022)')\n",
    "plt.xlabel('Año')\n",
    "plt.ylabel('Consumo total de energías renovables (TWh)')\n",
    "\n",
    "plt.tight_layout()\n",
    "plt.show()"
   ]
  },
  {
   "cell_type": "markdown",
   "metadata": {},
   "source": [
    "La gráfica muestra la **distribución del consumo total de energías renovables por año** después de haber realizado la **imputación de valores faltantes** y la **eliminación de outliers** usando el método del **rango intercuartílico (IQR)**.\n",
    "\n",
    "A pesar de la eliminación de outliers, los que permanecen en la gráfica se deben a que algunos países tienen consumos excepcionalmente altos en energías renovables. El método IQR no los eliminó porque, aunque son altos, no exceden el rango de corte definido para ser eliminados como outliers extremos. Estos valores pueden reflejar políticas energéticas exitosas o inversiones significativas en energías renovables, y es importante analizarlos más a fondo en lugar de descartarlos como anomalías.\n",
    "\n",
    "Aunque la imputación lineal ha rellenado los valores faltantes y se han eliminado muchos outliers, todavía hay países con consumos fuera del rango típico que merecen una atención especial. Estos valores no son errores, sino reflejos de comportamientos o capacidades energéticas excepcionales. El análisis de estos outliers puede ofrecer información valiosa sobre los líderes en energías renovables y las políticas que han impulsado su crecimiento."
   ]
  },
  {
   "cell_type": "markdown",
   "metadata": {},
   "source": [
    "## **Consumo de Energias Renovables y No Renovables**\n",
    "\n",
    "### **Consumo de diferentes fuentes de Energía**"
   ]
  },
  {
   "cell_type": "markdown",
   "metadata": {},
   "source": [
    "Esto tiene como objetivo visualizar la evolución temporal del consumo de energías renovables y no renovables de manera clara y diferenciada. La decisión de crear dos gráficos en una sola salida permite comparar fácilmente cómo han evolucionado estas dos categorías de energía entre los años 1990 y 2022, facilitando el análisis comparativo entre los dos tipos de fuentes energéticas."
   ]
  },
  {
   "cell_type": "code",
   "execution_count": 635,
   "metadata": {},
   "outputs": [
    {
     "data": {
      "image/png": "[encoded data removed]",
      "text/plain": [
       "<Figure size 1400x1000 with 2 Axes>"
      ]
     },
     "metadata": {},
     "output_type": "display_data"
    }
   ],
   "source": [
    "plt.figure(figsize=(14, 10))\n",
    "\n",
    "plt.subplot(2, 1, 1) \n",
    "df_filtered_plot = df_filtered_range[['year'] + ren_energy_columns].groupby('year').sum().reset_index()\n",
    "\n",
    "for energy in ren_energy_columns:\n",
    "    plt.plot(df_filtered_plot['year'], df_filtered_plot[energy], label=energy)\n",
    "\n",
    "plt.title('Consumo de diferentes fuentes de energía renovables (1990 - 2022)')\n",
    "plt.xlabel('Año')\n",
    "plt.ylabel('Consumo (TWh)')\n",
    "plt.legend()\n",
    "plt.grid(True)\n",
    "\n",
    "plt.subplot(2, 1, 2)  \n",
    "df_filtered_plot_nonren = df_filtered_range[['year'] + nonren_energy_columns].groupby('year').sum().reset_index()\n",
    "\n",
    "for energy in nonren_energy_columns:\n",
    "    plt.plot(df_filtered_plot_nonren['year'], df_filtered_plot_nonren[energy], label=energy)\n",
    "\n",
    "plt.title('Consumo de diferentes fuentes de energía no renovables (1990 - 2022)')\n",
    "plt.xlabel('Año')\n",
    "plt.ylabel('Consumo (TWh)')\n",
    "plt.legend()\n",
    "plt.grid(True)\n",
    "\n",
    "plt.tight_layout()\n",
    "\n",
    "plt.show()"
   ]
  },
  {
   "cell_type": "markdown",
   "metadata": {},
   "source": [
    "Esta gráfica muestra dos subgráficas, una para las **energías renovables** y otra para las **energías no renovables**, permitiendo observar las tendencias de consumo de diferentes fuentes energéticas entre 1990 y 2022.\n",
    "\n",
    "#### **Gráfica de energías renovables**:\n",
    "   - **Hidroeléctrica**: Es la fuente de energía renovable más utilizada a lo largo de todo el período. Aunque su crecimiento es estable, ha habido una ligera desaceleración a partir de 2010.\n",
    "   - **Nuclear**: También representa una gran parte del consumo de energías renovables, pero ha mostrado una tendencia **a la baja** desde aproximadamente el año 2005.\n",
    "   - **Solar, eólica y biofuel**: Estas energías han tenido un crecimiento exponencial, especialmente a partir de 2010. La **solar** y la **eólica** muestran un aumento muy marcado, lo que refleja un fuerte avance tecnológico y políticas favorables en las últimas décadas.\n",
    "   - **Otras energías renovables**: Presentan un crecimiento más modesto, pero aún relevante.\n",
    "\n",
    "En resumen, la gráfica refleja el auge de las energías renovables **solar y eólica**, con una ralentización en las energías nucleares e hidroeléctricas. Esto sugiere un cambio hacia fuentes más modernas de energía renovable.\n",
    "\n",
    "#### **Gráfica de energías no renovables**:\n",
    "   - **Fósiles**: El consumo de **combustibles fósiles** sigue siendo extremadamente alto, y aunque muestra un crecimiento constante, parece haberse estabilizado o incluso comenzado a **disminuir levemente** después de 2010. Esto podría ser un indicio de la transición energética hacia fuentes más limpias.\n",
    "   - **Carbón, gas y petróleo**: Estas tres fuentes han mostrado un crecimiento moderado hasta el año 2010, después del cual se observa una cierta estabilización o leve descenso, especialmente en el caso del **carbón**. Sin embargo, el **gas natural** sigue teniendo un consumo considerable.\n",
    "\n",
    "En resumen, aunque el consumo de **energías no renovables** sigue siendo alto, se observa una ligera estabilización o disminución en los últimos años. Esto puede estar relacionado con políticas de descarbonización y el aumento de las energías renovables.\n",
    "\n",
    "\n",
    "Las energías **renovables** (particularmente la **solar** y **eólica**) han crecido de manera significativa, mientras que las fuentes tradicionales de energía renovable (como la **hidroeléctrica** y la **nuclear**) muestran una tendencia más estable o a la baja.\n",
    "Por otro lado, aunque las **energías no renovables** siguen dominando el consumo energético global, el gráfico sugiere una posible transición hacia fuentes más limpias, reflejada en la estabilización o leve disminución de su consumo en la última década.\n",
    "\n",
    "Esto indica un cambio progresivo hacia una matriz energética más sostenible, con las energías renovables ganando terreno frente a las no renovables."
   ]
  },
  {
   "cell_type": "markdown",
   "metadata": {},
   "source": [
    "### **Consumo Total de ambas fuentes de Energía**"
   ]
  },
  {
   "cell_type": "markdown",
   "metadata": {},
   "source": [
    "Esto tiene como objetivo visualizar las sumas anuales del consumo total de energías renovables y no renovables a través de gráficos de barras con etiquetas de valores encima de cada barra. La decisión de representar estos datos de esta manera busca proporcionar una visualización clara y directa que permita observar las diferencias y la evolución en el tiempo entre ambos tipos de energía, facilitando la interpretación del crecimiento o decrecimiento en el consumo."
   ]
  },
  {
   "cell_type": "code",
   "execution_count": 636,
   "metadata": {},
   "outputs": [
    {
     "data": {
      "image/png": "[encoded data removed]",
      "text/plain": [
       "<Figure size 1000x800 with 2 Axes>"
      ]
     },
     "metadata": {},
     "output_type": "display_data"
    }
   ],
   "source": [
    "df_total_energy_per_year = df_filtered_range.groupby('year')[['ren_energy', 'nonren_energy']].sum().reset_index()\n",
    "plt.figure(figsize=(10, 8))\n",
    "\n",
    "def plot_bars(ax, data, color, title, y_label):\n",
    "    bars = ax.bar(data['year'], data['value'], color=color, width=0.8)\n",
    "    for bar in bars:\n",
    "        yval = bar.get_height()\n",
    "        ax.text(bar.get_x() + bar.get_width() / 2, yval + 0.05 * yval, f'{round(yval/1000, 1)}K', ha='center', va='bottom', rotation=90)\n",
    "    ax.set_title(title)\n",
    "    ax.set_xlabel('Año')\n",
    "    ax.set_ylabel(y_label)\n",
    "    ax.grid(axis='y', linestyle='--', linewidth=0.7)\n",
    "    ax.set_ylim(0, yval + yval * 0.35)\n",
    "\n",
    "plt.subplot(2, 1, 1)\n",
    "plot_bars(plt.gca(), df_total_energy_per_year.rename(columns={'ren_energy': 'value'}), '#90EE90', 'Suma total de fuentes de energía renovable (1990 - 2022)', 'Consumo Total (TWh)')\n",
    "\n",
    "plt.subplot(2, 1, 2)\n",
    "plot_bars(plt.gca(), df_total_energy_per_year.rename(columns={'nonren_energy': 'value'}), '#FFA07A', 'Suma total de fuentes de energía no renovable (1990 - 2022)', 'Consumo Total (TWh)')\n",
    "\n",
    "plt.tight_layout()\n",
    "\n",
    "plt.show()"
   ]
  },
  {
   "cell_type": "markdown",
   "metadata": {},
   "source": [
    "Esta gráfica muestra dos subgráficas que comparan la **suma total de fuentes de energía renovable** y **no renovable** en el período entre 1990 y 2022. Las barras de cada gráfico incluyen etiquetas con los valores anuales en teravatios-hora (TWh) para una interpretación numérica directa.\n",
    "\n",
    "- La gráfica refleja dos tendencias distintas: mientras que las **energías renovables** muestran un crecimiento acelerado, las **energías no renovables** han mantenido un alto nivel de consumo con una leve estabilización en los últimos años.\n",
    "- Esto indica un **progreso hacia la transición energética**, donde las fuentes renovables están ganando terreno, aunque las fuentes no renovables siguen dominando el consumo energético mundial.\n",
    "- El crecimiento reciente de las energías renovables sugiere que los esfuerzos por reducir la dependencia de los combustibles fósiles están comenzando a tener un impacto notable, aunque aún se requiere un cambio más drástico para desplazar completamente a las fuentes no renovables.\n",
    "\n",
    "Si bien el uso de energías renovables ha aumentado significativamente, la gráfica muestra que todavía existe una **gran brecha** entre el consumo de fuentes renovables y no renovables, lo que subraya la magnitud del desafío que enfrenta el mundo en términos de transición energética."
   ]
  },
  {
   "cell_type": "markdown",
   "metadata": {},
   "source": [
    "Representar los datos mediante gráficas de pastel tiene como objetivo proporcionar una visión clara y sencilla de la distribución porcentual del consumo de diferentes fuentes de energía renovable y no renovable. Este tipo de gráfico permite visualizar de forma directa qué fuentes de energía dominan el consumo total en el período de 1990 a 2022, facilitando una rápida comparación entre las diferentes categorías de energía."
   ]
  },
  {
   "cell_type": "code",
   "execution_count": 637,
   "metadata": {},
   "outputs": [
    {
     "data": {
      "image/png": "[encoded data removed]",
      "text/plain": [
       "<Figure size 1400x700 with 2 Axes>"
      ]
     },
     "metadata": {},
     "output_type": "display_data"
    }
   ],
   "source": [
    "df_renewable_total = df_filtered_range[ren_energy_columns].sum()\n",
    "df_nonrenewable_total = df_filtered_range[nonren_energy_columns].sum()\n",
    "\n",
    "plt.figure(figsize=(14, 7))\n",
    "\n",
    "plt.subplot(1, 2, 1)\n",
    "plt.pie(df_renewable_total, autopct='%1.1f%%', startangle=90, \n",
    "        colors=['#ff9999','#66b3ff','#99ff99','#ffcc99','#c2c2f0','#ffb3e6'])\n",
    "plt.title('Porcentaje del consumo total de energías renovables (1990 - 2022)')\n",
    "plt.axis('equal')  \n",
    "plt.legend(ren_energy_columns, loc=\"best\", bbox_to_anchor=(1, 0, 0.5, 1))  \n",
    "\n",
    "plt.subplot(1, 2, 2)\n",
    "plt.pie(df_nonrenewable_total, autopct='%1.1f%%', startangle=90, \n",
    "        colors=['#ff6666', '#ffcc66', '#66ff66', '#66ccff'])\n",
    "plt.title('Porcentaje del consumo total de energías no renovables (1990 - 2022)')\n",
    "plt.axis('equal')  \n",
    "plt.legend(nonren_energy_columns, loc=\"best\", bbox_to_anchor=(1, 0, 0.5, 1)) \n",
    "\n",
    "plt.tight_layout()\n",
    "\n",
    "plt.show()"
   ]
  },
  {
   "cell_type": "markdown",
   "metadata": {},
   "source": [
    "Estas gráficas proporcionan una visión clara de cómo se distribuye el consumo de energía entre las distintas fuentes, tanto renovables como no renovables. Se puede observar que, aunque las energías renovables están ganando relevancia, las fuentes no renovables (especialmente los combustibles fósiles) aún constituyen una parte importante de la producción energética global. Las energías hidroeléctrica y nuclear dominan dentro de las renovables, mientras que los combustibles fósiles siguen siendo la principal fuente de energía no renovable."
   ]
  },
  {
   "cell_type": "markdown",
   "metadata": {},
   "source": [
    "## **Consumo de Energía por paises**\n",
    "\n",
    "### **Consumo de Energía en el mundo**\n",
    "\n",
    "El uso de un **mapa coroplético** para representar el **consumo total de energías renovables por país** tiene como objetivo proporcionar una **visualización geoespacial** que permite identificar visualmente qué regiones del mundo están contribuyendo más al consumo de energías limpias. Esta decisión se tomó para hacer evidente la **distribución desigual** de la adopción de energías renovables, donde algunos países son líderes y otros aún tienen un consumo bajo."
   ]
  },
  {
   "cell_type": "code",
   "execution_count": 638,
   "metadata": {},
   "outputs": [
    {
     "data": {
      "application/vnd.plotly.v1+json": {
       "config": {
        "plotlyServerURL": "https://plot.ly"
       },
       "data": [
        {
         "coloraxis": "coloraxis",
         "geo": "geo",
         "hovertemplate": "<b>%{hovertext}</b><br><br>country=%{location}<br>Consumo Total de Energía (TWh)=%{z}<extra></extra>",
         "hovertext": [
          "Afghanistan",
          "Africa",
          "Albania",
          "Algeria",
          "American Samoa",
          "Angola",
          "Antigua and Barbuda",
          "Argentina",
          "Armenia",
          "Aruba",
          "Australia",
          "Austria",
          "Azerbaijan",
          "Bahamas",
          "Bahrain",
          "Bangladesh",
          "Barbados",
          "Belarus",
          "Belgium",
          "Belize",
          "Benin",
          "Bermuda",
          "Bhutan",
          "Bolivia",
          "Bosnia and Herzegovina",
          "Botswana",
          "Brazil",
          "British Virgin Islands",
          "Brunei",
          "Bulgaria",
          "Burkina Faso",
          "Burundi",
          "Cambodia",
          "Cameroon",
          "Canada",
          "Cape Verde",
          "Cayman Islands",
          "Central African Republic",
          "Chad",
          "Chile",
          "China",
          "Colombia",
          "Comoros",
          "Congo",
          "Cook Islands",
          "Costa Rica",
          "Cote d'Ivoire",
          "Croatia",
          "Cuba",
          "Curacao",
          "Cyprus",
          "Czechia",
          "Czechoslovakia",
          "Democratic Republic of Congo",
          "Denmark",
          "Djibouti",
          "Dominica",
          "Dominican Republic",
          "East Germany",
          "East Timor",
          "Ecuador",
          "Egypt",
          "El Salvador",
          "Equatorial Guinea",
          "Eritrea",
          "Estonia",
          "Eswatini",
          "Ethiopia",
          "Falkland Islands",
          "Faroe Islands",
          "Fiji",
          "Finland",
          "France",
          "French Guiana",
          "French Polynesia",
          "Gabon",
          "Gambia",
          "Georgia",
          "Germany",
          "Ghana",
          "Gibraltar",
          "Greece",
          "Greenland",
          "Grenada",
          "Guadeloupe",
          "Guam",
          "Guatemala",
          "Guinea",
          "Guinea-Bissau",
          "Guyana",
          "Haiti",
          "Honduras",
          "Hong Kong",
          "Hungary",
          "Iceland",
          "India",
          "Indonesia",
          "Iran",
          "Iraq",
          "Ireland",
          "Israel",
          "Italy",
          "Jamaica",
          "Japan",
          "Jordan",
          "Kazakhstan",
          "Kenya",
          "Kiribati",
          "Kosovo",
          "Kuwait",
          "Kyrgyzstan",
          "Laos",
          "Latvia",
          "Lebanon",
          "Lesotho",
          "Liberia",
          "Libya",
          "Lithuania",
          "Low-income countries",
          "Luxembourg",
          "Macao",
          "Madagascar",
          "Malawi",
          "Malaysia",
          "Maldives",
          "Mali",
          "Malta",
          "Martinique",
          "Mauritania",
          "Mauritius",
          "Mexico",
          "Micronesia (country)",
          "Moldova",
          "Mongolia",
          "Montenegro",
          "Montserrat",
          "Morocco",
          "Mozambique",
          "Myanmar",
          "Namibia",
          "Nauru",
          "Nepal",
          "Netherlands",
          "Netherlands Antilles",
          "New Caledonia",
          "New Zealand",
          "Nicaragua",
          "Niger",
          "Nigeria",
          "Niue",
          "North Korea",
          "North Macedonia",
          "Northern Mariana Islands",
          "Norway",
          "Oceania",
          "Oman",
          "Pakistan",
          "Palestine",
          "Panama",
          "Papua New Guinea",
          "Paraguay",
          "Peru",
          "Philippines",
          "Poland",
          "Portugal",
          "Puerto Rico",
          "Qatar",
          "Reunion",
          "Romania",
          "Russia",
          "Rwanda",
          "Saint Helena",
          "Saint Kitts and Nevis",
          "Saint Lucia",
          "Saint Pierre and Miquelon",
          "Saint Vincent and the Grenadines",
          "Samoa",
          "Sao Tome and Principe",
          "Saudi Arabia",
          "Senegal",
          "Serbia",
          "Serbia and Montenegro",
          "Seychelles",
          "Sierra Leone",
          "Singapore",
          "Slovakia",
          "Slovenia",
          "Solomon Islands",
          "Somalia",
          "South Africa",
          "South Korea",
          "South Sudan",
          "Spain",
          "Sri Lanka",
          "Sudan",
          "Suriname",
          "Sweden",
          "Switzerland",
          "Syria",
          "Taiwan",
          "Tajikistan",
          "Tanzania",
          "Thailand",
          "Togo",
          "Tonga",
          "Trinidad and Tobago",
          "Tunisia",
          "Turkey",
          "Turkmenistan",
          "Turks and Caicos Islands",
          "Tuvalu",
          "USSR",
          "Uganda",
          "Ukraine",
          "United Arab Emirates",
          "United Kingdom",
          "United States",
          "United States Virgin Islands",
          "Uruguay",
          "Uzbekistan",
          "Vanuatu",
          "Venezuela",
          "Vietnam",
          "West Germany",
          "Western Sahara",
          "Yemen",
          "Yugoslavia",
          "Zambia",
          "Zimbabwe"
         ],
         "locationmode": "country names",
         "locations": [
          "Afghanistan",
          "Africa",
          "Albania",
          "Algeria",
          "American Samoa",
          "Angola",
          "Antigua and Barbuda",
          "Argentina",
          "Armenia",
          "Aruba",
          "Australia",
          "Austria",
          "Azerbaijan",
          "Bahamas",
          "Bahrain",
          "Bangladesh",
          "Barbados",
          "Belarus",
          "Belgium",
          "Belize",
          "Benin",
          "Bermuda",
          "Bhutan",
          "Bolivia",
          "Bosnia and Herzegovina",
          "Botswana",
          "Brazil",
          "British Virgin Islands",
          "Brunei",
          "Bulgaria",
          "Burkina Faso",
          "Burundi",
          "Cambodia",
          "Cameroon",
          "Canada",
          "Cape Verde",
          "Cayman Islands",
          "Central African Republic",
          "Chad",
          "Chile",
          "China",
          "Colombia",
          "Comoros",
          "Congo",
          "Cook Islands",
          "Costa Rica",
          "Cote d'Ivoire",
          "Croatia",
          "Cuba",
          "Curacao",
          "Cyprus",
          "Czechia",
          "Czechoslovakia",
          "Democratic Republic of Congo",
          "Denmark",
          "Djibouti",
          "Dominica",
          "Dominican Republic",
          "East Germany",
          "East Timor",
          "Ecuador",
          "Egypt",
          "El Salvador",
          "Equatorial Guinea",
          "Eritrea",
          "Estonia",
          "Eswatini",
          "Ethiopia",
          "Falkland Islands",
          "Faroe Islands",
          "Fiji",
          "Finland",
          "France",
          "French Guiana",
          "French Polynesia",
          "Gabon",
          "Gambia",
          "Georgia",
          "Germany",
          "Ghana",
          "Gibraltar",
          "Greece",
          "Greenland",
          "Grenada",
          "Guadeloupe",
          "Guam",
          "Guatemala",
          "Guinea",
          "Guinea-Bissau",
          "Guyana",
          "Haiti",
          "Honduras",
          "Hong Kong",
          "Hungary",
          "Iceland",
          "India",
          "Indonesia",
          "Iran",
          "Iraq",
          "Ireland",
          "Israel",
          "Italy",
          "Jamaica",
          "Japan",
          "Jordan",
          "Kazakhstan",
          "Kenya",
          "Kiribati",
          "Kosovo",
          "Kuwait",
          "Kyrgyzstan",
          "Laos",
          "Latvia",
          "Lebanon",
          "Lesotho",
          "Liberia",
          "Libya",
          "Lithuania",
          "Low-income countries",
          "Luxembourg",
          "Macao",
          "Madagascar",
          "Malawi",
          "Malaysia",
          "Maldives",
          "Mali",
          "Malta",
          "Martinique",
          "Mauritania",
          "Mauritius",
          "Mexico",
          "Micronesia (country)",
          "Moldova",
          "Mongolia",
          "Montenegro",
          "Montserrat",
          "Morocco",
          "Mozambique",
          "Myanmar",
          "Namibia",
          "Nauru",
          "Nepal",
          "Netherlands",
          "Netherlands Antilles",
          "New Caledonia",
          "New Zealand",
          "Nicaragua",
          "Niger",
          "Nigeria",
          "Niue",
          "North Korea",
          "North Macedonia",
          "Northern Mariana Islands",
          "Norway",
          "Oceania",
          "Oman",
          "Pakistan",
          "Palestine",
          "Panama",
          "Papua New Guinea",
          "Paraguay",
          "Peru",
          "Philippines",
          "Poland",
          "Portugal",
          "Puerto Rico",
          "Qatar",
          "Reunion",
          "Romania",
          "Russia",
          "Rwanda",
          "Saint Helena",
          "Saint Kitts and Nevis",
          "Saint Lucia",
          "Saint Pierre and Miquelon",
          "Saint Vincent and the Grenadines",
          "Samoa",
          "Sao Tome and Principe",
          "Saudi Arabia",
          "Senegal",
          "Serbia",
          "Serbia and Montenegro",
          "Seychelles",
          "Sierra Leone",
          "Singapore",
          "Slovakia",
          "Slovenia",
          "Solomon Islands",
          "Somalia",
          "South Africa",
          "South Korea",
          "South Sudan",
          "Spain",
          "Sri Lanka",
          "Sudan",
          "Suriname",
          "Sweden",
          "Switzerland",
          "Syria",
          "Taiwan",
          "Tajikistan",
          "Tanzania",
          "Thailand",
          "Togo",
          "Tonga",
          "Trinidad and Tobago",
          "Tunisia",
          "Turkey",
          "Turkmenistan",
          "Turks and Caicos Islands",
          "Tuvalu",
          "USSR",
          "Uganda",
          "Ukraine",
          "United Arab Emirates",
          "United Kingdom",
          "United States",
          "United States Virgin Islands",
          "Uruguay",
          "Uzbekistan",
          "Vanuatu",
          "Venezuela",
          "Vietnam",
          "West Germany",
          "Western Sahara",
          "Yemen",
          "Yugoslavia",
          "Zambia",
          "Zimbabwe"
         ],
         "name": "",
         "type": "choropleth",
         "z": [
          0,
          10900.646999999999,
          0,
          28.740000000000002,
          0,
          0,
          0,
          3724.3550000000005,
          0,
          0,
          2714.515,
          4168.382,
          184.839,
          0,
          0,
          83.281,
          0,
          52.101,
          4635.407,
          0,
          0,
          0,
          0,
          0,
          0,
          0,
          39934.34199999999,
          0,
          0,
          1889.67,
          0,
          0,
          0,
          0,
          43522.901000000005,
          0,
          0,
          0,
          0,
          2501.3179999999998,
          82025.578,
          3990.554,
          0,
          0,
          0,
          0,
          0,
          650.334,
          0,
          0,
          18.009,
          2516.21,
          0,
          0,
          1073.299,
          0,
          0,
          0,
          0,
          0,
          1024.017,
          1350.886,
          0,
          0,
          0,
          78.935,
          0,
          0,
          0,
          0,
          0,
          4463.992,
          43843.011000000006,
          0,
          0,
          0,
          0,
          0,
          21901.046,
          0,
          0,
          800.515,
          0,
          0,
          0,
          0,
          0,
          0,
          0,
          0,
          0,
          0,
          10.457999999999998,
          1539.802,
          1095.656,
          15867.925,
          2549.907,
          1231.8359999999998,
          405.799,
          407.903,
          84.121,
          6848.616,
          0,
          29201.189,
          0,
          803.758,
          0,
          0,
          0,
          1.799,
          0,
          0,
          311.22799999999995,
          0,
          0,
          0,
          0,
          791.76,
          0,
          45.79299999999999,
          0,
          0,
          0,
          1158.6909999999998,
          0,
          0,
          0,
          0,
          0,
          0,
          4761.71,
          0,
          0,
          0,
          0,
          0,
          252.29500000000002,
          0,
          0,
          0,
          0,
          0,
          1428.556,
          0,
          0,
          2853.266,
          0,
          0,
          0,
          0,
          0,
          115.622,
          0,
          11938.159000000001,
          5567.785,
          6.76,
          2883.939,
          0,
          0,
          0,
          0,
          1947.732,
          1703.17,
          1145.3829999999998,
          1765.8030000000003,
          0,
          4.795,
          0,
          2379.5380000000005,
          30128.287,
          0,
          0,
          0,
          0,
          0,
          0,
          0,
          0,
          4.515,
          0,
          0,
          0,
          0,
          0,
          57.825,
          1795.228,
          871.812,
          0,
          0,
          1480.7559999999999,
          11966.907,
          0,
          11497.081,
          422.06399999999996,
          0,
          0,
          13729.634,
          5691.861,
          0,
          3986.05,
          0,
          0,
          1365.355,
          0,
          0,
          1.7610000000000001,
          0,
          5195.749,
          0.49,
          0,
          0,
          0,
          0,
          8365.282000000001,
          148.811,
          10723.965,
          121108.163,
          0,
          0,
          584.049,
          0,
          6124.852,
          3344.9590000000003,
          0,
          0,
          0,
          0,
          0,
          0
         ]
        }
       ],
       "layout": {
        "coloraxis": {
         "cmax": 150000,
         "cmin": 0,
         "colorbar": {
          "title": {
           "text": "Consumo Total de Energía (TWh)"
          }
         },
         "colorscale": [
          [
           0,
           "rgb(255,255,217)"
          ],
          [
           0.125,
           "rgb(237,248,177)"
          ],
          [
           0.25,
           "rgb(199,233,180)"
          ],
          [
           0.375,
           "rgb(127,205,187)"
          ],
          [
           0.5,
           "rgb(65,182,196)"
          ],
          [
           0.625,
           "rgb(29,145,192)"
          ],
          [
           0.75,
           "rgb(34,94,168)"
          ],
          [
           0.875,
           "rgb(37,52,148)"
          ],
          [
           1,
           "rgb(8,29,88)"
          ]
         ]
        },
        "geo": {
         "center": {},
         "coastlinecolor": "Black",
         "countrycolor": "black",
         "domain": {
          "x": [
           0,
           1
          ],
          "y": [
           0,
           1
          ]
         },
         "lakecolor": "LightBlue",
         "landcolor": "white",
         "oceancolor": "LightBlue",
         "projection": {
          "type": "natural earth"
         },
         "rivercolor": "LightBlue",
         "showcoastlines": true,
         "showcountries": true,
         "showlakes": true,
         "showland": true,
         "showocean": true,
         "showrivers": true
        },
        "legend": {
         "tracegroupgap": 0
        },
        "template": {
         "data": {
          "bar": [
           {
            "error_x": {
             "color": "#2a3f5f"
            },
            "error_y": {
             "color": "#2a3f5f"
            },
            "marker": {
             "line": {
              "color": "#E5ECF6",
              "width": 0.5
             },
             "pattern": {
              "fillmode": "overlay",
              "size": 10,
              "solidity": 0.2
             }
            },
            "type": "bar"
           }
          ],
          "barpolar": [
           {
            "marker": {
             "line": {
              "color": "#E5ECF6",
              "width": 0.5
             },
             "pattern": {
              "fillmode": "overlay",
              "size": 10,
              "solidity": 0.2
             }
            },
            "type": "barpolar"
           }
          ],
          "carpet": [
           {
            "aaxis": {
             "endlinecolor": "#2a3f5f",
             "gridcolor": "white",
             "linecolor": "white",
             "minorgridcolor": "white",
             "startlinecolor": "#2a3f5f"
            },
            "baxis": {
             "endlinecolor": "#2a3f5f",
             "gridcolor": "white",
             "linecolor": "white",
             "minorgridcolor": "white",
             "startlinecolor": "#2a3f5f"
            },
            "type": "carpet"
           }
          ],
          "choropleth": [
           {
            "colorbar": {
             "outlinewidth": 0,
             "ticks": ""
            },
            "type": "choropleth"
           }
          ],
          "contour": [
           {
            "colorbar": {
             "outlinewidth": 0,
             "ticks": ""
            },
            "colorscale": [
             [
              0,
              "#0d0887"
             ],
             [
              0.1111111111111111,
              "#46039f"
             ],
             [
              0.2222222222222222,
              "#7201a8"
             ],
             [
              0.3333333333333333,
              "#9c179e"
             ],
             [
              0.4444444444444444,
              "#bd3786"
             ],
             [
              0.5555555555555556,
              "#d8576b"
             ],
             [
              0.6666666666666666,
              "#ed7953"
             ],
             [
              0.7777777777777778,
              "#fb9f3a"
             ],
             [
              0.8888888888888888,
              "#fdca26"
             ],
             [
              1,
              "#f0f921"
             ]
            ],
            "type": "contour"
           }
          ],
          "contourcarpet": [
           {
            "colorbar": {
             "outlinewidth": 0,
             "ticks": ""
            },
            "type": "contourcarpet"
           }
          ],
          "heatmap": [
           {
            "colorbar": {
             "outlinewidth": 0,
             "ticks": ""
            },
            "colorscale": [
             [
              0,
              "#0d0887"
             ],
             [
              0.1111111111111111,
              "#46039f"
             ],
             [
              0.2222222222222222,
              "#7201a8"
             ],
             [
              0.3333333333333333,
              "#9c179e"
             ],
             [
              0.4444444444444444,
              "#bd3786"
             ],
             [
              0.5555555555555556,
              "#d8576b"
             ],
             [
              0.6666666666666666,
              "#ed7953"
             ],
             [
              0.7777777777777778,
              "#fb9f3a"
             ],
             [
              0.8888888888888888,
              "#fdca26"
             ],
             [
              1,
              "#f0f921"
             ]
            ],
            "type": "heatmap"
           }
          ],
          "heatmapgl": [
           {
            "colorbar": {
             "outlinewidth": 0,
             "ticks": ""
            },
            "colorscale": [
             [
              0,
              "#0d0887"
             ],
             [
              0.1111111111111111,
              "#46039f"
             ],
             [
              0.2222222222222222,
              "#7201a8"
             ],
             [
              0.3333333333333333,
              "#9c179e"
             ],
             [
              0.4444444444444444,
              "#bd3786"
             ],
             [
              0.5555555555555556,
              "#d8576b"
             ],
             [
              0.6666666666666666,
              "#ed7953"
             ],
             [
              0.7777777777777778,
              "#fb9f3a"
             ],
             [
              0.8888888888888888,
              "#fdca26"
             ],
             [
              1,
              "#f0f921"
             ]
            ],
            "type": "heatmapgl"
           }
          ],
          "histogram": [
           {
            "marker": {
             "pattern": {
              "fillmode": "overlay",
              "size": 10,
              "solidity": 0.2
             }
            },
            "type": "histogram"
           }
          ],
          "histogram2d": [
           {
            "colorbar": {
             "outlinewidth": 0,
             "ticks": ""
            },
            "colorscale": [
             [
              0,
              "#0d0887"
             ],
             [
              0.1111111111111111,
              "#46039f"
             ],
             [
              0.2222222222222222,
              "#7201a8"
             ],
             [
              0.3333333333333333,
              "#9c179e"
             ],
             [
              0.4444444444444444,
              "#bd3786"
             ],
             [
              0.5555555555555556,
              "#d8576b"
             ],
             [
              0.6666666666666666,
              "#ed7953"
             ],
             [
              0.7777777777777778,
              "#fb9f3a"
             ],
             [
              0.8888888888888888,
              "#fdca26"
             ],
             [
              1,
              "#f0f921"
             ]
            ],
            "type": "histogram2d"
           }
          ],
          "histogram2dcontour": [
           {
            "colorbar": {
             "outlinewidth": 0,
             "ticks": ""
            },
            "colorscale": [
             [
              0,
              "#0d0887"
             ],
             [
              0.1111111111111111,
              "#46039f"
             ],
             [
              0.2222222222222222,
              "#7201a8"
             ],
             [
              0.3333333333333333,
              "#9c179e"
             ],
             [
              0.4444444444444444,
              "#bd3786"
             ],
             [
              0.5555555555555556,
              "#d8576b"
             ],
             [
              0.6666666666666666,
              "#ed7953"
             ],
             [
              0.7777777777777778,
              "#fb9f3a"
             ],
             [
              0.8888888888888888,
              "#fdca26"
             ],
             [
              1,
              "#f0f921"
             ]
            ],
            "type": "histogram2dcontour"
           }
          ],
          "mesh3d": [
           {
            "colorbar": {
             "outlinewidth": 0,
             "ticks": ""
            },
            "type": "mesh3d"
           }
          ],
          "parcoords": [
           {
            "line": {
             "colorbar": {
              "outlinewidth": 0,
              "ticks": ""
             }
            },
            "type": "parcoords"
           }
          ],
          "pie": [
           {
            "automargin": true,
            "type": "pie"
           }
          ],
          "scatter": [
           {
            "fillpattern": {
             "fillmode": "overlay",
             "size": 10,
             "solidity": 0.2
            },
            "type": "scatter"
           }
          ],
          "scatter3d": [
           {
            "line": {
             "colorbar": {
              "outlinewidth": 0,
              "ticks": ""
             }
            },
            "marker": {
             "colorbar": {
              "outlinewidth": 0,
              "ticks": ""
             }
            },
            "type": "scatter3d"
           }
          ],
          "scattercarpet": [
           {
            "marker": {
             "colorbar": {
              "outlinewidth": 0,
              "ticks": ""
             }
            },
            "type": "scattercarpet"
           }
          ],
          "scattergeo": [
           {
            "marker": {
             "colorbar": {
              "outlinewidth": 0,
              "ticks": ""
             }
            },
            "type": "scattergeo"
           }
          ],
          "scattergl": [
           {
            "marker": {
             "colorbar": {
              "outlinewidth": 0,
              "ticks": ""
             }
            },
            "type": "scattergl"
           }
          ],
          "scattermapbox": [
           {
            "marker": {
             "colorbar": {
              "outlinewidth": 0,
              "ticks": ""
             }
            },
            "type": "scattermapbox"
           }
          ],
          "scatterpolar": [
           {
            "marker": {
             "colorbar": {
              "outlinewidth": 0,
              "ticks": ""
             }
            },
            "type": "scatterpolar"
           }
          ],
          "scatterpolargl": [
           {
            "marker": {
             "colorbar": {
              "outlinewidth": 0,
              "ticks": ""
             }
            },
            "type": "scatterpolargl"
           }
          ],
          "scatterternary": [
           {
            "marker": {
             "colorbar": {
              "outlinewidth": 0,
              "ticks": ""
             }
            },
            "type": "scatterternary"
           }
          ],
          "surface": [
           {
            "colorbar": {
             "outlinewidth": 0,
             "ticks": ""
            },
            "colorscale": [
             [
              0,
              "#0d0887"
             ],
             [
              0.1111111111111111,
              "#46039f"
             ],
             [
              0.2222222222222222,
              "#7201a8"
             ],
             [
              0.3333333333333333,
              "#9c179e"
             ],
             [
              0.4444444444444444,
              "#bd3786"
             ],
             [
              0.5555555555555556,
              "#d8576b"
             ],
             [
              0.6666666666666666,
              "#ed7953"
             ],
             [
              0.7777777777777778,
              "#fb9f3a"
             ],
             [
              0.8888888888888888,
              "#fdca26"
             ],
             [
              1,
              "#f0f921"
             ]
            ],
            "type": "surface"
           }
          ],
          "table": [
           {
            "cells": {
             "fill": {
              "color": "#EBF0F8"
             },
             "line": {
              "color": "white"
             }
            },
            "header": {
             "fill": {
              "color": "#C8D4E3"
             },
             "line": {
              "color": "white"
             }
            },
            "type": "table"
           }
          ]
         },
         "layout": {
          "annotationdefaults": {
           "arrowcolor": "#2a3f5f",
           "arrowhead": 0,
           "arrowwidth": 1
          },
          "autotypenumbers": "strict",
          "coloraxis": {
           "colorbar": {
            "outlinewidth": 0,
            "ticks": ""
           }
          },
          "colorscale": {
           "diverging": [
            [
             0,
             "#8e0152"
            ],
            [
             0.1,
             "#c51b7d"
            ],
            [
             0.2,
             "#de77ae"
            ],
            [
             0.3,
             "#f1b6da"
            ],
            [
             0.4,
             "#fde0ef"
            ],
            [
             0.5,
             "#f7f7f7"
            ],
            [
             0.6,
             "#e6f5d0"
            ],
            [
             0.7,
             "#b8e186"
            ],
            [
             0.8,
             "#7fbc41"
            ],
            [
             0.9,
             "#4d9221"
            ],
            [
             1,
             "#276419"
            ]
           ],
           "sequential": [
            [
             0,
             "#0d0887"
            ],
            [
             0.1111111111111111,
             "#46039f"
            ],
            [
             0.2222222222222222,
             "#7201a8"
            ],
            [
             0.3333333333333333,
             "#9c179e"
            ],
            [
             0.4444444444444444,
             "#bd3786"
            ],
            [
             0.5555555555555556,
             "#d8576b"
            ],
            [
             0.6666666666666666,
             "#ed7953"
            ],
            [
             0.7777777777777778,
             "#fb9f3a"
            ],
            [
             0.8888888888888888,
             "#fdca26"
            ],
            [
             1,
             "#f0f921"
            ]
           ],
           "sequentialminus": [
            [
             0,
             "#0d0887"
            ],
            [
             0.1111111111111111,
             "#46039f"
            ],
            [
             0.2222222222222222,
             "#7201a8"
            ],
            [
             0.3333333333333333,
             "#9c179e"
            ],
            [
             0.4444444444444444,
             "#bd3786"
            ],
            [
             0.5555555555555556,
             "#d8576b"
            ],
            [
             0.6666666666666666,
             "#ed7953"
            ],
            [
             0.7777777777777778,
             "#fb9f3a"
            ],
            [
             0.8888888888888888,
             "#fdca26"
            ],
            [
             1,
             "#f0f921"
            ]
           ]
          },
          "colorway": [
           "#636efa",
           "#EF553B",
           "#00cc96",
           "#ab63fa",
           "#FFA15A",
           "#19d3f3",
           "#FF6692",
           "#B6E880",
           "#FF97FF",
           "#FECB52"
          ],
          "font": {
           "color": "#2a3f5f"
          },
          "geo": {
           "bgcolor": "white",
           "lakecolor": "white",
           "landcolor": "#E5ECF6",
           "showlakes": true,
           "showland": true,
           "subunitcolor": "white"
          },
          "hoverlabel": {
           "align": "left"
          },
          "hovermode": "closest",
          "mapbox": {
           "style": "light"
          },
          "paper_bgcolor": "white",
          "plot_bgcolor": "#E5ECF6",
          "polar": {
           "angularaxis": {
            "gridcolor": "white",
            "linecolor": "white",
            "ticks": ""
           },
           "bgcolor": "#E5ECF6",
           "radialaxis": {
            "gridcolor": "white",
            "linecolor": "white",
            "ticks": ""
           }
          },
          "scene": {
           "xaxis": {
            "backgroundcolor": "#E5ECF6",
            "gridcolor": "white",
            "gridwidth": 2,
            "linecolor": "white",
            "showbackground": true,
            "ticks": "",
            "zerolinecolor": "white"
           },
           "yaxis": {
            "backgroundcolor": "#E5ECF6",
            "gridcolor": "white",
            "gridwidth": 2,
            "linecolor": "white",
            "showbackground": true,
            "ticks": "",
            "zerolinecolor": "white"
           },
           "zaxis": {
            "backgroundcolor": "#E5ECF6",
            "gridcolor": "white",
            "gridwidth": 2,
            "linecolor": "white",
            "showbackground": true,
            "ticks": "",
            "zerolinecolor": "white"
           }
          },
          "shapedefaults": {
           "line": {
            "color": "#2a3f5f"
           }
          },
          "ternary": {
           "aaxis": {
            "gridcolor": "white",
            "linecolor": "white",
            "ticks": ""
           },
           "baxis": {
            "gridcolor": "white",
            "linecolor": "white",
            "ticks": ""
           },
           "bgcolor": "#E5ECF6",
           "caxis": {
            "gridcolor": "white",
            "linecolor": "white",
            "ticks": ""
           }
          },
          "title": {
           "x": 0.05
          },
          "xaxis": {
           "automargin": true,
           "gridcolor": "white",
           "linecolor": "white",
           "ticks": "",
           "title": {
            "standoff": 15
           },
           "zerolinecolor": "white",
           "zerolinewidth": 2
          },
          "yaxis": {
           "automargin": true,
           "gridcolor": "white",
           "linecolor": "white",
           "ticks": "",
           "title": {
            "standoff": 15
           },
           "zerolinecolor": "white",
           "zerolinewidth": 2
          }
         }
        },
        "title": {
         "text": "Consumo total de energías renovables por país (1990 - 2022)"
        }
       }
      }
     },
     "metadata": {},
     "output_type": "display_data"
    }
   ],
   "source": [
    "df_renewable_consumption = df_filtered_range.groupby('country')[ren_energy_columns].sum().reset_index()\n",
    "\n",
    "df_renewable_consumption['total_renewable'] = df_renewable_consumption[ren_energy_columns].sum(axis=1)\n",
    "\n",
    "fig = px.choropleth(df_renewable_consumption, \n",
    "                    locations=\"country\", \n",
    "                    locationmode=\"country names\",\n",
    "                    color=\"total_renewable\", \n",
    "                    hover_name=\"country\", \n",
    "                    title=\"Consumo total de energías renovables por país (1990 - 2022)\",\n",
    "                    projection=\"natural earth\",\n",
    "                    color_continuous_scale=px.colors.sequential.YlGnBu,  \n",
    "                    range_color=(0, 150000),  \n",
    "                    labels={'total_renewable':'Consumo Total de Energía (TWh)'})\n",
    "\n",
    "fig.update_geos(showcoastlines=True, coastlinecolor=\"Black\",\n",
    "                showland=True, landcolor=\"white\",\n",
    "                showocean=True, oceancolor=\"LightBlue\",\n",
    "                showlakes=True, lakecolor=\"LightBlue\",\n",
    "                showrivers=True, rivercolor=\"LightBlue\",\n",
    "                showcountries=True, countrycolor=\"black\")\n",
    "\n",
    "fig.show()"
   ]
  },
  {
   "cell_type": "markdown",
   "metadata": {},
   "source": [
    "\n",
    "   - Los países con los colores más oscuros, como **Estados Unidos** y **China**, son los principales consumidores de energías renovables, reflejando su gran tamaño, capacidad industrial, y políticas enfocadas a la transición energética.\n",
    "   - **Canadá**, también con un color oscuro, es otro actor importante en el consumo de energías renovables, gracias a su vasta capacidad hidroeléctrica.\n",
    "\n",
    "   - Países en **América Latina**, **África**, y partes de **Asia** muestran colores más claros, lo que indica un menor consumo de energías renovables. Esto puede estar relacionado con limitaciones económicas, tecnológicas o de infraestructura que dificultan la adopción de estas fuentes de energía.\n",
    "   - **Europa** aparece en tonos más claros en general, lo que podría reflejar que, aunque muchos países europeos están avanzando en la adopción de energías renovables, su tamaño y demanda energética total es menor comparado con países como China o EE. UU.\n",
    "\n",
    "   - Este mapa resalta las **disparidades globales** en el consumo de energías renovables. Si bien algunos países están avanzando rápidamente hacia una mayor adopción de fuentes limpias, muchos otros todavía dependen de fuentes no renovables o no han logrado desarrollar suficiente capacidad renovable.\n",
    "   - La representación geoespacial es una herramienta poderosa para **visualizar las diferencias regionales** y ayuda a identificar áreas donde es necesario un mayor enfoque en políticas de energía limpia para promover una adopción más equitativa a nivel mundial.\n",
    "\n",
    "En resumen, esta gráfica facilita la **interpretación global** del consumo de energías renovables, destacando a los principales actores y mostrando las regiones que podrían beneficiarse de mayores inversiones en infraestructura energética sostenible."
   ]
  },
  {
   "cell_type": "markdown",
   "metadata": {},
   "source": [
    "### **Representación de los 10 países que mas consumen energía renovable**\n",
    "\n",
    "Para representar a los 10 países con mayor consumo de energías renovables permite una comparación clara y visual de los valores de consumo acumulado entre los países. Al ordenar las barras de mayor a menor, se facilita la interpretación inmediata de quiénes son los principales consumidores de energías renovables, destacando las diferencias entre cada país.\n",
    "\n",
    "Este tipo de gráfico es eficaz para mostrar datos ordenados y para resaltar el valor absoluto del consumo en cada país, lo que lo hace perfecto para observar tendencias a largo plazo como en este caso, que abarca el consumo desde 1990 hasta 2022."
   ]
  },
  {
   "cell_type": "code",
   "execution_count": 639,
   "metadata": {},
   "outputs": [
    {
     "data": {
      "application/vnd.plotly.v1+json": {
       "config": {
        "plotlyServerURL": "https://plot.ly"
       },
       "data": [
        {
         "alignmentgroup": "True",
         "hovertemplate": "Consumo Total de Energía (TWh)=%{marker.color}<br>País=%{y}<extra></extra>",
         "legendgroup": "",
         "marker": {
          "color": [
           121108.163,
           82025.578,
           43843.011000000006,
           43522.901000000005,
           39934.34199999999,
           30128.287,
           29201.189,
           21901.046,
           15867.925,
           13729.634
          ],
          "coloraxis": "coloraxis",
          "pattern": {
           "shape": ""
          }
         },
         "name": "",
         "offsetgroup": "",
         "orientation": "h",
         "showlegend": false,
         "text": [
          121108.163,
          82025.578,
          43843.011000000006,
          43522.901000000005,
          39934.34199999999,
          30128.287,
          29201.189,
          21901.046,
          15867.925,
          13729.634
         ],
         "textposition": "outside",
         "texttemplate": "%{text:.3s}",
         "type": "bar",
         "x": [
          121108.163,
          82025.578,
          43843.011000000006,
          43522.901000000005,
          39934.34199999999,
          30128.287,
          29201.189,
          21901.046,
          15867.925,
          13729.634
         ],
         "xaxis": "x",
         "y": [
          "United States",
          "China",
          "France",
          "Canada",
          "Brazil",
          "Russia",
          "Japan",
          "Germany",
          "India",
          "Sweden"
         ],
         "yaxis": "y"
        }
       ],
       "layout": {
        "barmode": "relative",
        "coloraxis": {
         "colorbar": {
          "title": {
           "text": "Consumo Total de Energía (TWh)"
          }
         },
         "colorscale": [
          [
           0,
           "rgb(255,255,229)"
          ],
          [
           0.125,
           "rgb(255,247,188)"
          ],
          [
           0.25,
           "rgb(254,227,145)"
          ],
          [
           0.375,
           "rgb(254,196,79)"
          ],
          [
           0.5,
           "rgb(254,153,41)"
          ],
          [
           0.625,
           "rgb(236,112,20)"
          ],
          [
           0.75,
           "rgb(204,76,2)"
          ],
          [
           0.875,
           "rgb(153,52,4)"
          ],
          [
           1,
           "rgb(102,37,6)"
          ]
         ]
        },
        "legend": {
         "tracegroupgap": 0
        },
        "showlegend": false,
        "template": {
         "data": {
          "bar": [
           {
            "error_x": {
             "color": "#2a3f5f"
            },
            "error_y": {
             "color": "#2a3f5f"
            },
            "marker": {
             "line": {
              "color": "#E5ECF6",
              "width": 0.5
             },
             "pattern": {
              "fillmode": "overlay",
              "size": 10,
              "solidity": 0.2
             }
            },
            "type": "bar"
           }
          ],
          "barpolar": [
           {
            "marker": {
             "line": {
              "color": "#E5ECF6",
              "width": 0.5
             },
             "pattern": {
              "fillmode": "overlay",
              "size": 10,
              "solidity": 0.2
             }
            },
            "type": "barpolar"
           }
          ],
          "carpet": [
           {
            "aaxis": {
             "endlinecolor": "#2a3f5f",
             "gridcolor": "white",
             "linecolor": "white",
             "minorgridcolor": "white",
             "startlinecolor": "#2a3f5f"
            },
            "baxis": {
             "endlinecolor": "#2a3f5f",
             "gridcolor": "white",
             "linecolor": "white",
             "minorgridcolor": "white",
             "startlinecolor": "#2a3f5f"
            },
            "type": "carpet"
           }
          ],
          "choropleth": [
           {
            "colorbar": {
             "outlinewidth": 0,
             "ticks": ""
            },
            "type": "choropleth"
           }
          ],
          "contour": [
           {
            "colorbar": {
             "outlinewidth": 0,
             "ticks": ""
            },
            "colorscale": [
             [
              0,
              "#0d0887"
             ],
             [
              0.1111111111111111,
              "#46039f"
             ],
             [
              0.2222222222222222,
              "#7201a8"
             ],
             [
              0.3333333333333333,
              "#9c179e"
             ],
             [
              0.4444444444444444,
              "#bd3786"
             ],
             [
              0.5555555555555556,
              "#d8576b"
             ],
             [
              0.6666666666666666,
              "#ed7953"
             ],
             [
              0.7777777777777778,
              "#fb9f3a"
             ],
             [
              0.8888888888888888,
              "#fdca26"
             ],
             [
              1,
              "#f0f921"
             ]
            ],
            "type": "contour"
           }
          ],
          "contourcarpet": [
           {
            "colorbar": {
             "outlinewidth": 0,
             "ticks": ""
            },
            "type": "contourcarpet"
           }
          ],
          "heatmap": [
           {
            "colorbar": {
             "outlinewidth": 0,
             "ticks": ""
            },
            "colorscale": [
             [
              0,
              "#0d0887"
             ],
             [
              0.1111111111111111,
              "#46039f"
             ],
             [
              0.2222222222222222,
              "#7201a8"
             ],
             [
              0.3333333333333333,
              "#9c179e"
             ],
             [
              0.4444444444444444,
              "#bd3786"
             ],
             [
              0.5555555555555556,
              "#d8576b"
             ],
             [
              0.6666666666666666,
              "#ed7953"
             ],
             [
              0.7777777777777778,
              "#fb9f3a"
             ],
             [
              0.8888888888888888,
              "#fdca26"
             ],
             [
              1,
              "#f0f921"
             ]
            ],
            "type": "heatmap"
           }
          ],
          "heatmapgl": [
           {
            "colorbar": {
             "outlinewidth": 0,
             "ticks": ""
            },
            "colorscale": [
             [
              0,
              "#0d0887"
             ],
             [
              0.1111111111111111,
              "#46039f"
             ],
             [
              0.2222222222222222,
              "#7201a8"
             ],
             [
              0.3333333333333333,
              "#9c179e"
             ],
             [
              0.4444444444444444,
              "#bd3786"
             ],
             [
              0.5555555555555556,
              "#d8576b"
             ],
             [
              0.6666666666666666,
              "#ed7953"
             ],
             [
              0.7777777777777778,
              "#fb9f3a"
             ],
             [
              0.8888888888888888,
              "#fdca26"
             ],
             [
              1,
              "#f0f921"
             ]
            ],
            "type": "heatmapgl"
           }
          ],
          "histogram": [
           {
            "marker": {
             "pattern": {
              "fillmode": "overlay",
              "size": 10,
              "solidity": 0.2
             }
            },
            "type": "histogram"
           }
          ],
          "histogram2d": [
           {
            "colorbar": {
             "outlinewidth": 0,
             "ticks": ""
            },
            "colorscale": [
             [
              0,
              "#0d0887"
             ],
             [
              0.1111111111111111,
              "#46039f"
             ],
             [
              0.2222222222222222,
              "#7201a8"
             ],
             [
              0.3333333333333333,
              "#9c179e"
             ],
             [
              0.4444444444444444,
              "#bd3786"
             ],
             [
              0.5555555555555556,
              "#d8576b"
             ],
             [
              0.6666666666666666,
              "#ed7953"
             ],
             [
              0.7777777777777778,
              "#fb9f3a"
             ],
             [
              0.8888888888888888,
              "#fdca26"
             ],
             [
              1,
              "#f0f921"
             ]
            ],
            "type": "histogram2d"
           }
          ],
          "histogram2dcontour": [
           {
            "colorbar": {
             "outlinewidth": 0,
             "ticks": ""
            },
            "colorscale": [
             [
              0,
              "#0d0887"
             ],
             [
              0.1111111111111111,
              "#46039f"
             ],
             [
              0.2222222222222222,
              "#7201a8"
             ],
             [
              0.3333333333333333,
              "#9c179e"
             ],
             [
              0.4444444444444444,
              "#bd3786"
             ],
             [
              0.5555555555555556,
              "#d8576b"
             ],
             [
              0.6666666666666666,
              "#ed7953"
             ],
             [
              0.7777777777777778,
              "#fb9f3a"
             ],
             [
              0.8888888888888888,
              "#fdca26"
             ],
             [
              1,
              "#f0f921"
             ]
            ],
            "type": "histogram2dcontour"
           }
          ],
          "mesh3d": [
           {
            "colorbar": {
             "outlinewidth": 0,
             "ticks": ""
            },
            "type": "mesh3d"
           }
          ],
          "parcoords": [
           {
            "line": {
             "colorbar": {
              "outlinewidth": 0,
              "ticks": ""
             }
            },
            "type": "parcoords"
           }
          ],
          "pie": [
           {
            "automargin": true,
            "type": "pie"
           }
          ],
          "scatter": [
           {
            "fillpattern": {
             "fillmode": "overlay",
             "size": 10,
             "solidity": 0.2
            },
            "type": "scatter"
           }
          ],
          "scatter3d": [
           {
            "line": {
             "colorbar": {
              "outlinewidth": 0,
              "ticks": ""
             }
            },
            "marker": {
             "colorbar": {
              "outlinewidth": 0,
              "ticks": ""
             }
            },
            "type": "scatter3d"
           }
          ],
          "scattercarpet": [
           {
            "marker": {
             "colorbar": {
              "outlinewidth": 0,
              "ticks": ""
             }
            },
            "type": "scattercarpet"
           }
          ],
          "scattergeo": [
           {
            "marker": {
             "colorbar": {
              "outlinewidth": 0,
              "ticks": ""
             }
            },
            "type": "scattergeo"
           }
          ],
          "scattergl": [
           {
            "marker": {
             "colorbar": {
              "outlinewidth": 0,
              "ticks": ""
             }
            },
            "type": "scattergl"
           }
          ],
          "scattermapbox": [
           {
            "marker": {
             "colorbar": {
              "outlinewidth": 0,
              "ticks": ""
             }
            },
            "type": "scattermapbox"
           }
          ],
          "scatterpolar": [
           {
            "marker": {
             "colorbar": {
              "outlinewidth": 0,
              "ticks": ""
             }
            },
            "type": "scatterpolar"
           }
          ],
          "scatterpolargl": [
           {
            "marker": {
             "colorbar": {
              "outlinewidth": 0,
              "ticks": ""
             }
            },
            "type": "scatterpolargl"
           }
          ],
          "scatterternary": [
           {
            "marker": {
             "colorbar": {
              "outlinewidth": 0,
              "ticks": ""
             }
            },
            "type": "scatterternary"
           }
          ],
          "surface": [
           {
            "colorbar": {
             "outlinewidth": 0,
             "ticks": ""
            },
            "colorscale": [
             [
              0,
              "#0d0887"
             ],
             [
              0.1111111111111111,
              "#46039f"
             ],
             [
              0.2222222222222222,
              "#7201a8"
             ],
             [
              0.3333333333333333,
              "#9c179e"
             ],
             [
              0.4444444444444444,
              "#bd3786"
             ],
             [
              0.5555555555555556,
              "#d8576b"
             ],
             [
              0.6666666666666666,
              "#ed7953"
             ],
             [
              0.7777777777777778,
              "#fb9f3a"
             ],
             [
              0.8888888888888888,
              "#fdca26"
             ],
             [
              1,
              "#f0f921"
             ]
            ],
            "type": "surface"
           }
          ],
          "table": [
           {
            "cells": {
             "fill": {
              "color": "#EBF0F8"
             },
             "line": {
              "color": "white"
             }
            },
            "header": {
             "fill": {
              "color": "#C8D4E3"
             },
             "line": {
              "color": "white"
             }
            },
            "type": "table"
           }
          ]
         },
         "layout": {
          "annotationdefaults": {
           "arrowcolor": "#2a3f5f",
           "arrowhead": 0,
           "arrowwidth": 1
          },
          "autotypenumbers": "strict",
          "coloraxis": {
           "colorbar": {
            "outlinewidth": 0,
            "ticks": ""
           }
          },
          "colorscale": {
           "diverging": [
            [
             0,
             "#8e0152"
            ],
            [
             0.1,
             "#c51b7d"
            ],
            [
             0.2,
             "#de77ae"
            ],
            [
             0.3,
             "#f1b6da"
            ],
            [
             0.4,
             "#fde0ef"
            ],
            [
             0.5,
             "#f7f7f7"
            ],
            [
             0.6,
             "#e6f5d0"
            ],
            [
             0.7,
             "#b8e186"
            ],
            [
             0.8,
             "#7fbc41"
            ],
            [
             0.9,
             "#4d9221"
            ],
            [
             1,
             "#276419"
            ]
           ],
           "sequential": [
            [
             0,
             "#0d0887"
            ],
            [
             0.1111111111111111,
             "#46039f"
            ],
            [
             0.2222222222222222,
             "#7201a8"
            ],
            [
             0.3333333333333333,
             "#9c179e"
            ],
            [
             0.4444444444444444,
             "#bd3786"
            ],
            [
             0.5555555555555556,
             "#d8576b"
            ],
            [
             0.6666666666666666,
             "#ed7953"
            ],
            [
             0.7777777777777778,
             "#fb9f3a"
            ],
            [
             0.8888888888888888,
             "#fdca26"
            ],
            [
             1,
             "#f0f921"
            ]
           ],
           "sequentialminus": [
            [
             0,
             "#0d0887"
            ],
            [
             0.1111111111111111,
             "#46039f"
            ],
            [
             0.2222222222222222,
             "#7201a8"
            ],
            [
             0.3333333333333333,
             "#9c179e"
            ],
            [
             0.4444444444444444,
             "#bd3786"
            ],
            [
             0.5555555555555556,
             "#d8576b"
            ],
            [
             0.6666666666666666,
             "#ed7953"
            ],
            [
             0.7777777777777778,
             "#fb9f3a"
            ],
            [
             0.8888888888888888,
             "#fdca26"
            ],
            [
             1,
             "#f0f921"
            ]
           ]
          },
          "colorway": [
           "#636efa",
           "#EF553B",
           "#00cc96",
           "#ab63fa",
           "#FFA15A",
           "#19d3f3",
           "#FF6692",
           "#B6E880",
           "#FF97FF",
           "#FECB52"
          ],
          "font": {
           "color": "#2a3f5f"
          },
          "geo": {
           "bgcolor": "white",
           "lakecolor": "white",
           "landcolor": "#E5ECF6",
           "showlakes": true,
           "showland": true,
           "subunitcolor": "white"
          },
          "hoverlabel": {
           "align": "left"
          },
          "hovermode": "closest",
          "mapbox": {
           "style": "light"
          },
          "paper_bgcolor": "white",
          "plot_bgcolor": "#E5ECF6",
          "polar": {
           "angularaxis": {
            "gridcolor": "white",
            "linecolor": "white",
            "ticks": ""
           },
           "bgcolor": "#E5ECF6",
           "radialaxis": {
            "gridcolor": "white",
            "linecolor": "white",
            "ticks": ""
           }
          },
          "scene": {
           "xaxis": {
            "backgroundcolor": "#E5ECF6",
            "gridcolor": "white",
            "gridwidth": 2,
            "linecolor": "white",
            "showbackground": true,
            "ticks": "",
            "zerolinecolor": "white"
           },
           "yaxis": {
            "backgroundcolor": "#E5ECF6",
            "gridcolor": "white",
            "gridwidth": 2,
            "linecolor": "white",
            "showbackground": true,
            "ticks": "",
            "zerolinecolor": "white"
           },
           "zaxis": {
            "backgroundcolor": "#E5ECF6",
            "gridcolor": "white",
            "gridwidth": 2,
            "linecolor": "white",
            "showbackground": true,
            "ticks": "",
            "zerolinecolor": "white"
           }
          },
          "shapedefaults": {
           "line": {
            "color": "#2a3f5f"
           }
          },
          "ternary": {
           "aaxis": {
            "gridcolor": "white",
            "linecolor": "white",
            "ticks": ""
           },
           "baxis": {
            "gridcolor": "white",
            "linecolor": "white",
            "ticks": ""
           },
           "bgcolor": "#E5ECF6",
           "caxis": {
            "gridcolor": "white",
            "linecolor": "white",
            "ticks": ""
           }
          },
          "title": {
           "x": 0.05
          },
          "xaxis": {
           "automargin": true,
           "gridcolor": "white",
           "linecolor": "white",
           "ticks": "",
           "title": {
            "standoff": 15
           },
           "zerolinecolor": "white",
           "zerolinewidth": 2
          },
          "yaxis": {
           "automargin": true,
           "gridcolor": "white",
           "linecolor": "white",
           "ticks": "",
           "title": {
            "standoff": 15
           },
           "zerolinecolor": "white",
           "zerolinewidth": 2
          }
         }
        },
        "title": {
         "text": "Top 10 países con mayor consumo de energías renovables per cápita (1990 - 2022)"
        },
        "xaxis": {
         "anchor": "y",
         "domain": [
          0,
          1
         ],
         "title": {
          "text": "Consumo Total de Energía (TWh)"
         }
        },
        "yaxis": {
         "anchor": "x",
         "domain": [
          0,
          1
         ],
         "title": {
          "text": "País"
         }
        }
       }
      }
     },
     "metadata": {},
     "output_type": "display_data"
    }
   ],
   "source": [
    "fig = px.bar(df_top10_renewable, \n",
    "             x='total_renewable', \n",
    "             y='country', \n",
    "             text='total_renewable', \n",
    "             title='Top 10 países con mayor consumo de energías renovables per cápita (1990 - 2022)',\n",
    "             labels={'total_renewable': 'Consumo Total de Energía (TWh)', 'country': 'País'},\n",
    "             orientation='h',\n",
    "             color='total_renewable', \n",
    "             color_continuous_scale='YlOrBr')\n",
    "\n",
    "fig.update_traces(texttemplate='%{text:.3s}', textposition='outside')\n",
    "fig.update_layout(xaxis_title='Consumo Total de Energía (TWh)', \n",
    "                  yaxis_title='País',\n",
    "                  showlegend=False)\n",
    "\n",
    "fig.show()"
   ]
  },
  {
   "cell_type": "markdown",
   "metadata": {},
   "source": [
    "Este gráfico muestra claramente que, aunque Estados Unidos y China dominan el consumo de energías renovables a nivel mundial, otros países como Francia, Canadá, y Brasil también desempeñan un papel importante en la transición hacia fuentes de energía más limpias. La distribución de los colores refuerza visualmente estas diferencias y facilita una interpretación clara del consumo total de cada país.\n",
    "\n",
    "En resumen, esta visualización destaca la distribución desigual del consumo de energías renovables entre los países, lo que refleja tanto el tamaño económico de cada nación como sus políticas energéticas específicas, y permite una fácil identificación de los líderes globales en la adopción de energías limpias."
   ]
  },
  {
   "cell_type": "markdown",
   "metadata": {},
   "source": [
    "## **Evolución del porcentaje de energías renovables**\n",
    "\n",
    "### **Promedio Porcentual - Energias Renovables vs No Renovables**\n",
    "\n",
    "El porcentaje de consumo de energías renovables frente a no renovables a lo largo del tiempo (1990 - 2022) tiene el propósito de visualizar la evolución relativa de las energías renovables en comparación con el consumo total. Este enfoque permite observar cómo ha crecido (o disminuido) el peso de las energías renovables en el consumo energético global, lo que es crucial para medir el progreso hacia una transición energética más sostenible.\n",
    "\n",
    "El gráfico de línea es ideal para este tipo de análisis temporal, ya que muestra claramente las tendencias a lo largo del tiempo y permite identificar momentos clave de crecimiento o estancamiento en la adopción de energías renovables."
   ]
  },
  {
   "cell_type": "code",
   "execution_count": 640,
   "metadata": {},
   "outputs": [
    {
     "data": {
      "application/vnd.plotly.v1+json": {
       "config": {
        "plotlyServerURL": "https://plot.ly"
       },
       "data": [
        {
         "hovertemplate": "Año=%{x}<br>Porcentaje de Energías Renovables (%)=%{y}<extra></extra>",
         "legendgroup": "",
         "line": {
          "color": "#636efa",
          "dash": "solid"
         },
         "marker": {
          "symbol": "circle"
         },
         "mode": "lines+markers",
         "name": "",
         "orientation": "v",
         "showlegend": false,
         "textposition": "top right",
         "texttemplate": "%{y:.1f}%",
         "type": "scatter",
         "x": [
          1990,
          1991,
          1992,
          1993,
          1994,
          1995,
          1996,
          1997,
          1998,
          1999,
          2000,
          2001,
          2002,
          2003,
          2004,
          2005,
          2006,
          2007,
          2008,
          2009,
          2010,
          2011,
          2012,
          2013,
          2014,
          2015,
          2016,
          2017,
          2018,
          2019,
          2020,
          2021,
          2022
         ],
         "xaxis": "x",
         "y": [
          6.913361369955871,
          7.1017129288285,
          7.087567902772664,
          7.384020253980057,
          7.3693836576649145,
          7.579130356417307,
          7.51371818696121,
          7.5163801104304175,
          7.586405342573656,
          7.614652801217142,
          7.585137913549414,
          7.470244074208672,
          7.438106368346675,
          7.071590860345278,
          7.141381265237083,
          7.038371674217278,
          7.056414314370355,
          6.895307916927776,
          7.109828784418588,
          7.277043393102393,
          7.319303864466442,
          7.233128915520981,
          7.218489628014043,
          7.415429899280143,
          7.647816897341664,
          7.824603802695086,
          8.086845155790781,
          8.238386941996625,
          8.456011771062972,
          8.81334561039856,
          9.517283047506378,
          9.530204753180401,
          9.961660952169977
         ],
         "yaxis": "y"
        }
       ],
       "layout": {
        "legend": {
         "tracegroupgap": 0
        },
        "template": {
         "data": {
          "bar": [
           {
            "error_x": {
             "color": "#2a3f5f"
            },
            "error_y": {
             "color": "#2a3f5f"
            },
            "marker": {
             "line": {
              "color": "#E5ECF6",
              "width": 0.5
             },
             "pattern": {
              "fillmode": "overlay",
              "size": 10,
              "solidity": 0.2
             }
            },
            "type": "bar"
           }
          ],
          "barpolar": [
           {
            "marker": {
             "line": {
              "color": "#E5ECF6",
              "width": 0.5
             },
             "pattern": {
              "fillmode": "overlay",
              "size": 10,
              "solidity": 0.2
             }
            },
            "type": "barpolar"
           }
          ],
          "carpet": [
           {
            "aaxis": {
             "endlinecolor": "#2a3f5f",
             "gridcolor": "white",
             "linecolor": "white",
             "minorgridcolor": "white",
             "startlinecolor": "#2a3f5f"
            },
            "baxis": {
             "endlinecolor": "#2a3f5f",
             "gridcolor": "white",
             "linecolor": "white",
             "minorgridcolor": "white",
             "startlinecolor": "#2a3f5f"
            },
            "type": "carpet"
           }
          ],
          "choropleth": [
           {
            "colorbar": {
             "outlinewidth": 0,
             "ticks": ""
            },
            "type": "choropleth"
           }
          ],
          "contour": [
           {
            "colorbar": {
             "outlinewidth": 0,
             "ticks": ""
            },
            "colorscale": [
             [
              0,
              "#0d0887"
             ],
             [
              0.1111111111111111,
              "#46039f"
             ],
             [
              0.2222222222222222,
              "#7201a8"
             ],
             [
              0.3333333333333333,
              "#9c179e"
             ],
             [
              0.4444444444444444,
              "#bd3786"
             ],
             [
              0.5555555555555556,
              "#d8576b"
             ],
             [
              0.6666666666666666,
              "#ed7953"
             ],
             [
              0.7777777777777778,
              "#fb9f3a"
             ],
             [
              0.8888888888888888,
              "#fdca26"
             ],
             [
              1,
              "#f0f921"
             ]
            ],
            "type": "contour"
           }
          ],
          "contourcarpet": [
           {
            "colorbar": {
             "outlinewidth": 0,
             "ticks": ""
            },
            "type": "contourcarpet"
           }
          ],
          "heatmap": [
           {
            "colorbar": {
             "outlinewidth": 0,
             "ticks": ""
            },
            "colorscale": [
             [
              0,
              "#0d0887"
             ],
             [
              0.1111111111111111,
              "#46039f"
             ],
             [
              0.2222222222222222,
              "#7201a8"
             ],
             [
              0.3333333333333333,
              "#9c179e"
             ],
             [
              0.4444444444444444,
              "#bd3786"
             ],
             [
              0.5555555555555556,
              "#d8576b"
             ],
             [
              0.6666666666666666,
              "#ed7953"
             ],
             [
              0.7777777777777778,
              "#fb9f3a"
             ],
             [
              0.8888888888888888,
              "#fdca26"
             ],
             [
              1,
              "#f0f921"
             ]
            ],
            "type": "heatmap"
           }
          ],
          "heatmapgl": [
           {
            "colorbar": {
             "outlinewidth": 0,
             "ticks": ""
            },
            "colorscale": [
             [
              0,
              "#0d0887"
             ],
             [
              0.1111111111111111,
              "#46039f"
             ],
             [
              0.2222222222222222,
              "#7201a8"
             ],
             [
              0.3333333333333333,
              "#9c179e"
             ],
             [
              0.4444444444444444,
              "#bd3786"
             ],
             [
              0.5555555555555556,
              "#d8576b"
             ],
             [
              0.6666666666666666,
              "#ed7953"
             ],
             [
              0.7777777777777778,
              "#fb9f3a"
             ],
             [
              0.8888888888888888,
              "#fdca26"
             ],
             [
              1,
              "#f0f921"
             ]
            ],
            "type": "heatmapgl"
           }
          ],
          "histogram": [
           {
            "marker": {
             "pattern": {
              "fillmode": "overlay",
              "size": 10,
              "solidity": 0.2
             }
            },
            "type": "histogram"
           }
          ],
          "histogram2d": [
           {
            "colorbar": {
             "outlinewidth": 0,
             "ticks": ""
            },
            "colorscale": [
             [
              0,
              "#0d0887"
             ],
             [
              0.1111111111111111,
              "#46039f"
             ],
             [
              0.2222222222222222,
              "#7201a8"
             ],
             [
              0.3333333333333333,
              "#9c179e"
             ],
             [
              0.4444444444444444,
              "#bd3786"
             ],
             [
              0.5555555555555556,
              "#d8576b"
             ],
             [
              0.6666666666666666,
              "#ed7953"
             ],
             [
              0.7777777777777778,
              "#fb9f3a"
             ],
             [
              0.8888888888888888,
              "#fdca26"
             ],
             [
              1,
              "#f0f921"
             ]
            ],
            "type": "histogram2d"
           }
          ],
          "histogram2dcontour": [
           {
            "colorbar": {
             "outlinewidth": 0,
             "ticks": ""
            },
            "colorscale": [
             [
              0,
              "#0d0887"
             ],
             [
              0.1111111111111111,
              "#46039f"
             ],
             [
              0.2222222222222222,
              "#7201a8"
             ],
             [
              0.3333333333333333,
              "#9c179e"
             ],
             [
              0.4444444444444444,
              "#bd3786"
             ],
             [
              0.5555555555555556,
              "#d8576b"
             ],
             [
              0.6666666666666666,
              "#ed7953"
             ],
             [
              0.7777777777777778,
              "#fb9f3a"
             ],
             [
              0.8888888888888888,
              "#fdca26"
             ],
             [
              1,
              "#f0f921"
             ]
            ],
            "type": "histogram2dcontour"
           }
          ],
          "mesh3d": [
           {
            "colorbar": {
             "outlinewidth": 0,
             "ticks": ""
            },
            "type": "mesh3d"
           }
          ],
          "parcoords": [
           {
            "line": {
             "colorbar": {
              "outlinewidth": 0,
              "ticks": ""
             }
            },
            "type": "parcoords"
           }
          ],
          "pie": [
           {
            "automargin": true,
            "type": "pie"
           }
          ],
          "scatter": [
           {
            "fillpattern": {
             "fillmode": "overlay",
             "size": 10,
             "solidity": 0.2
            },
            "type": "scatter"
           }
          ],
          "scatter3d": [
           {
            "line": {
             "colorbar": {
              "outlinewidth": 0,
              "ticks": ""
             }
            },
            "marker": {
             "colorbar": {
              "outlinewidth": 0,
              "ticks": ""
             }
            },
            "type": "scatter3d"
           }
          ],
          "scattercarpet": [
           {
            "marker": {
             "colorbar": {
              "outlinewidth": 0,
              "ticks": ""
             }
            },
            "type": "scattercarpet"
           }
          ],
          "scattergeo": [
           {
            "marker": {
             "colorbar": {
              "outlinewidth": 0,
              "ticks": ""
             }
            },
            "type": "scattergeo"
           }
          ],
          "scattergl": [
           {
            "marker": {
             "colorbar": {
              "outlinewidth": 0,
              "ticks": ""
             }
            },
            "type": "scattergl"
           }
          ],
          "scattermapbox": [
           {
            "marker": {
             "colorbar": {
              "outlinewidth": 0,
              "ticks": ""
             }
            },
            "type": "scattermapbox"
           }
          ],
          "scatterpolar": [
           {
            "marker": {
             "colorbar": {
              "outlinewidth": 0,
              "ticks": ""
             }
            },
            "type": "scatterpolar"
           }
          ],
          "scatterpolargl": [
           {
            "marker": {
             "colorbar": {
              "outlinewidth": 0,
              "ticks": ""
             }
            },
            "type": "scatterpolargl"
           }
          ],
          "scatterternary": [
           {
            "marker": {
             "colorbar": {
              "outlinewidth": 0,
              "ticks": ""
             }
            },
            "type": "scatterternary"
           }
          ],
          "surface": [
           {
            "colorbar": {
             "outlinewidth": 0,
             "ticks": ""
            },
            "colorscale": [
             [
              0,
              "#0d0887"
             ],
             [
              0.1111111111111111,
              "#46039f"
             ],
             [
              0.2222222222222222,
              "#7201a8"
             ],
             [
              0.3333333333333333,
              "#9c179e"
             ],
             [
              0.4444444444444444,
              "#bd3786"
             ],
             [
              0.5555555555555556,
              "#d8576b"
             ],
             [
              0.6666666666666666,
              "#ed7953"
             ],
             [
              0.7777777777777778,
              "#fb9f3a"
             ],
             [
              0.8888888888888888,
              "#fdca26"
             ],
             [
              1,
              "#f0f921"
             ]
            ],
            "type": "surface"
           }
          ],
          "table": [
           {
            "cells": {
             "fill": {
              "color": "#EBF0F8"
             },
             "line": {
              "color": "white"
             }
            },
            "header": {
             "fill": {
              "color": "#C8D4E3"
             },
             "line": {
              "color": "white"
             }
            },
            "type": "table"
           }
          ]
         },
         "layout": {
          "annotationdefaults": {
           "arrowcolor": "#2a3f5f",
           "arrowhead": 0,
           "arrowwidth": 1
          },
          "autotypenumbers": "strict",
          "coloraxis": {
           "colorbar": {
            "outlinewidth": 0,
            "ticks": ""
           }
          },
          "colorscale": {
           "diverging": [
            [
             0,
             "#8e0152"
            ],
            [
             0.1,
             "#c51b7d"
            ],
            [
             0.2,
             "#de77ae"
            ],
            [
             0.3,
             "#f1b6da"
            ],
            [
             0.4,
             "#fde0ef"
            ],
            [
             0.5,
             "#f7f7f7"
            ],
            [
             0.6,
             "#e6f5d0"
            ],
            [
             0.7,
             "#b8e186"
            ],
            [
             0.8,
             "#7fbc41"
            ],
            [
             0.9,
             "#4d9221"
            ],
            [
             1,
             "#276419"
            ]
           ],
           "sequential": [
            [
             0,
             "#0d0887"
            ],
            [
             0.1111111111111111,
             "#46039f"
            ],
            [
             0.2222222222222222,
             "#7201a8"
            ],
            [
             0.3333333333333333,
             "#9c179e"
            ],
            [
             0.4444444444444444,
             "#bd3786"
            ],
            [
             0.5555555555555556,
             "#d8576b"
            ],
            [
             0.6666666666666666,
             "#ed7953"
            ],
            [
             0.7777777777777778,
             "#fb9f3a"
            ],
            [
             0.8888888888888888,
             "#fdca26"
            ],
            [
             1,
             "#f0f921"
            ]
           ],
           "sequentialminus": [
            [
             0,
             "#0d0887"
            ],
            [
             0.1111111111111111,
             "#46039f"
            ],
            [
             0.2222222222222222,
             "#7201a8"
            ],
            [
             0.3333333333333333,
             "#9c179e"
            ],
            [
             0.4444444444444444,
             "#bd3786"
            ],
            [
             0.5555555555555556,
             "#d8576b"
            ],
            [
             0.6666666666666666,
             "#ed7953"
            ],
            [
             0.7777777777777778,
             "#fb9f3a"
            ],
            [
             0.8888888888888888,
             "#fdca26"
            ],
            [
             1,
             "#f0f921"
            ]
           ]
          },
          "colorway": [
           "#636efa",
           "#EF553B",
           "#00cc96",
           "#ab63fa",
           "#FFA15A",
           "#19d3f3",
           "#FF6692",
           "#B6E880",
           "#FF97FF",
           "#FECB52"
          ],
          "font": {
           "color": "#2a3f5f"
          },
          "geo": {
           "bgcolor": "white",
           "lakecolor": "white",
           "landcolor": "#E5ECF6",
           "showlakes": true,
           "showland": true,
           "subunitcolor": "white"
          },
          "hoverlabel": {
           "align": "left"
          },
          "hovermode": "closest",
          "mapbox": {
           "style": "light"
          },
          "paper_bgcolor": "white",
          "plot_bgcolor": "#E5ECF6",
          "polar": {
           "angularaxis": {
            "gridcolor": "white",
            "linecolor": "white",
            "ticks": ""
           },
           "bgcolor": "#E5ECF6",
           "radialaxis": {
            "gridcolor": "white",
            "linecolor": "white",
            "ticks": ""
           }
          },
          "scene": {
           "xaxis": {
            "backgroundcolor": "#E5ECF6",
            "gridcolor": "white",
            "gridwidth": 2,
            "linecolor": "white",
            "showbackground": true,
            "ticks": "",
            "zerolinecolor": "white"
           },
           "yaxis": {
            "backgroundcolor": "#E5ECF6",
            "gridcolor": "white",
            "gridwidth": 2,
            "linecolor": "white",
            "showbackground": true,
            "ticks": "",
            "zerolinecolor": "white"
           },
           "zaxis": {
            "backgroundcolor": "#E5ECF6",
            "gridcolor": "white",
            "gridwidth": 2,
            "linecolor": "white",
            "showbackground": true,
            "ticks": "",
            "zerolinecolor": "white"
           }
          },
          "shapedefaults": {
           "line": {
            "color": "#2a3f5f"
           }
          },
          "ternary": {
           "aaxis": {
            "gridcolor": "white",
            "linecolor": "white",
            "ticks": ""
           },
           "baxis": {
            "gridcolor": "white",
            "linecolor": "white",
            "ticks": ""
           },
           "bgcolor": "#E5ECF6",
           "caxis": {
            "gridcolor": "white",
            "linecolor": "white",
            "ticks": ""
           }
          },
          "title": {
           "x": 0.05
          },
          "xaxis": {
           "automargin": true,
           "gridcolor": "white",
           "linecolor": "white",
           "ticks": "",
           "title": {
            "standoff": 15
           },
           "zerolinecolor": "white",
           "zerolinewidth": 2
          },
          "yaxis": {
           "automargin": true,
           "gridcolor": "white",
           "linecolor": "white",
           "ticks": "",
           "title": {
            "standoff": 15
           },
           "zerolinecolor": "white",
           "zerolinewidth": 2
          }
         }
        },
        "title": {
         "text": "Porcentaje de consumo de energías renovables vs no renovables (1990 - 2022)"
        },
        "xaxis": {
         "anchor": "y",
         "domain": [
          0,
          1
         ],
         "title": {
          "text": "Año"
         }
        },
        "yaxis": {
         "anchor": "x",
         "domain": [
          0,
          1
         ],
         "title": {
          "text": "Porcentaje de Energías Renovables (%)"
         }
        }
       }
      }
     },
     "metadata": {},
     "output_type": "display_data"
    }
   ],
   "source": [
    "df_annual_consumption = df_filtered_range.groupby('year')[ren_energy_columns + nonren_energy_columns].sum().reset_index()\n",
    "\n",
    "df_annual_consumption['total_renewable'] = df_annual_consumption[ren_energy_columns].sum(axis=1)\n",
    "df_annual_consumption['total_nonrenewable'] = df_annual_consumption[nonren_energy_columns].sum(axis=1)\n",
    "\n",
    "df_annual_consumption['percentage_renewable'] = (df_annual_consumption['total_renewable'] / \n",
    "                                                 (df_annual_consumption['total_renewable'] + df_annual_consumption['total_nonrenewable'])) * 100\n",
    "\n",
    "fig = px.line(df_annual_consumption, \n",
    "              x='year', \n",
    "              y='percentage_renewable', \n",
    "              title='Porcentaje de consumo de energías renovables vs no renovables (1990 - 2022)',\n",
    "              labels={'percentage_renewable': 'Porcentaje de Energías Renovables (%)', 'year': 'Año'},\n",
    "              markers=True)\n",
    "\n",
    "fig.update_traces(texttemplate='%{y:.1f}%', textposition=\"top right\")\n",
    "\n",
    "fig.show()"
   ]
  },
  {
   "cell_type": "markdown",
   "metadata": {},
   "source": [
    "Se calcula el consumo total anual tanto de energías renovables como de no renovables. Luego, se utiliza esta información para calcular el porcentaje que representa el consumo de energías renovables sobre el consumo total (renovable + no renovable) cada año.\n",
    "\n",
    "El incremento más marcado ocurre en los últimos cinco años, lo que indica un progreso considerable en la adopción de energías limpias a nivel global. Sin embargo, aunque el crecimiento es notable, el porcentaje sigue siendo relativamente bajo en comparación con el total de consumo, lo que señala la necesidad de mayores esfuerzos en la transición hacia un consumo más sostenible.\n",
    "\n",
    "Este gráfico de línea muestra claramente cómo el porcentaje de energías renovables ha fluctuado a lo largo de los años, con un estancamiento en la década de 2000 y un crecimiento acelerado en la última década. Esto es un reflejo de cómo las políticas energéticas, los avances tecnológicos, y las demandas de sostenibilidad están impulsando el incremento en la adopción de energías renovables."
   ]
  },
  {
   "cell_type": "markdown",
   "metadata": {},
   "source": [
    "## **Consumo de Energías Renovables por medio de un Mapa de Calor**\n",
    "\n",
    "Con esto ofrece una visión comparativa de qué fuentes de energía predominan en distintos países, así como identificar el volumen relativo de consumo entre las diferentes fuentes y países. Este tipo de gráfico es ideal para visualizar matrices de datos donde cada celda contiene un valor numérico, ya que permite observar de manera intuitiva los valores más altos y más bajos a través de una escala de color."
   ]
  },
  {
   "cell_type": "code",
   "execution_count": 641,
   "metadata": {},
   "outputs": [
    {
     "data": {
      "image/png": "[encoded data removed]",
      "text/plain": [
       "<Figure size 800x800 with 2 Axes>"
      ]
     },
     "metadata": {},
     "output_type": "display_data"
    }
   ],
   "source": [
    "plt.figure(figsize=(8, 8))\n",
    "ax = sns.heatmap(df_top10_renewable.set_index('country')[ren_energy_columns], \n",
    "                 annot=True, fmt='.0f', cmap='YlOrBr', linewidths=.5, cbar_kws={'label': 'Consumo de energía (TWh)'})\n",
    "\n",
    "plt.title('Consumo de energías renovables por país (1990 - 2022)')\n",
    "plt.xlabel('Tipos de energía')\n",
    "plt.ylabel('País')\n",
    "\n",
    "plt.tight_layout()\n",
    "plt.show()"
   ]
  },
  {
   "cell_type": "markdown",
   "metadata": {},
   "source": [
    "Permite una rápida comparación entre los países en cuanto a su consumo de distintos tipos de energías renovables. Ayuda a identificar patrones regionales y resalta la heterogeneidad en el uso de fuentes renovables, desde países con una fuerte dependencia en hidroenergía, como Brasil y China, hasta aquellos con un predominio nuclear, como Estados Unidos y Francia."
   ]
  },
  {
   "cell_type": "markdown",
   "metadata": {},
   "source": [
    "## Conclusiones\n",
    "\n",
    "El consumo de energías renovables ha mostrado un crecimiento sostenido desde 1990, especialmente en fuentes como la energía solar, eólica e hidroeléctrica. Este aumento refleja los esfuerzos de muchos países por diversificar sus matrices energéticas y reducir su dependencia de combustibles fósiles, en respuesta tanto a factores económicos como a las presiones derivadas del cambio climático.\n",
    "\n",
    "A pesar del crecimiento global, existe una disparidad significativa en el uso de fuentes renovables entre los diferentes países. Mientras que algunos países como Estados Unidos, China, y Brasil lideran el consumo total, otros dependen principalmente de una o dos fuentes específicas, como la energía nuclear en Francia y la hidroenergía en Canadá y Suecia. Aunque el consumo de energías renovables ha crecido, la proporción del consumo renovable frente al consumo no renovable todavía sigue siendo baja. \n",
    "\n",
    "El análisis muestra que aunque se han hecho avances importantes en la adopción de energías renovables a nivel mundial, la dependencia de los combustibles fósiles sigue siendo alta. Para lograr los objetivos climáticos internacionales, será crucial acelerar la transición energética, incrementar la inversión en tecnologías limpias y asegurar una distribución más equitativa de las fuentes renovables a nivel global."
   ]
  }
 ],
 "metadata": {
  "kernelspec": {
   "display_name": "Python 3",
   "language": "python",
   "name": "python3"
  },
  "language_info": {
   "codemirror_mode": {
    "name": "ipython",
    "version": 3
   },
   "file_extension": ".py",
   "mimetype": "text/x-python",
   "name": "python",
   "nbconvert_exporter": "python",
   "pygments_lexer": "ipython3",
   "version": "3.9.19"
  }
 },
 "nbformat": 4,
 "nbformat_minor": 2
}
